{
 "cells": [
  {
   "cell_type": "code",
   "execution_count": null,
   "metadata": {},
   "outputs": [
    {
     "data": {
      "text/plain": [
       "True"
      ]
     },
     "execution_count": 29,
     "metadata": {},
     "output_type": "execute_result"
    }
   ],
   "source": [
    "from pathlib import Path\n",
    "from datetime import datetime\n",
    "\n",
    "\n",
    "path = r\"C:/pyprojects/fast-english/database/extract_data_video/data/extracted_data/phrases/data_organize/hotel/alugar_um_apartamento/where_do_we_pick_up_the_keys/text_v2.json\"\n",
    "# Caminho do arquivo\n",
    "def check_date(path:Path):\n",
    "    \"\"\"\n",
    "    Verifica se o arquivo existe e retorna a data de modificação\n",
    "    :param path: Caminho do arquivo\n",
    "    :return: Data de modificação\n",
    "    \"\"\"\n",
    "    if path.exists():\n",
    "        # Pega o timestamp de modificação\n",
    "        timestamp = path.stat().st_mtime\n",
    "        # Converte para data legível\n",
    "        data_modificacao = datetime.fromtimestamp(timestamp)\n",
    "        return data_modificacao.strftime(\"%d/%m/%Y %H:%M:%S\")\n",
    "    else:\n",
    "        return None\n",
    "\n",
    "date_modfy_file = check_date(Path(path))\n",
    "\n",
    "\n"
   ]
  },
  {
   "cell_type": "code",
   "execution_count": 48,
   "metadata": {},
   "outputs": [],
   "source": [
    "import os\n",
    "path_origin = r\"C:/pyprojects/fast-english/database/extract_data_video/data/extracted_data/phrases\"\n",
    "\n",
    "list_folder_ignore = [\"audio\", \"video\", \"image\", \"recortes\"]\n",
    "arquivos = []\n",
    "\n",
    "for root_dir, dirs, files in os.walk(Path(path_origin)):\n",
    "    dirs[:] = [d for d in dirs if d not in (list_folder_ignore or [])]\n",
    "\n",
    "    for file in files:\n",
    "        if file.endswith(\".json\"):\n",
    "            path_json = os.path.join(root_dir, file)\n",
    "            date_modfy_file = check_date(Path(path_json))\n",
    "\n",
    "            if date_modfy_file > '13/05/2025 12:20:44':\n",
    "                arquivos.append({date_modfy_file:path_json})\n",
    "                # arquivos.append(os.path.join(Path(root_dir).name, file))"
   ]
  },
  {
   "cell_type": "code",
   "execution_count": 49,
   "metadata": {},
   "outputs": [
    {
     "data": {
      "text/plain": [
       "'05/05/2025 08:24:12'"
      ]
     },
     "execution_count": 49,
     "metadata": {},
     "output_type": "execute_result"
    }
   ],
   "source": [
    "date_modfy_file"
   ]
  },
  {
   "cell_type": "code",
   "execution_count": 50,
   "metadata": {},
   "outputs": [
    {
     "data": {
      "text/plain": [
       "[{'14/05/2025 11:35:02': 'C:\\\\pyprojects\\\\fast-english\\\\database\\\\extract_data_video\\\\data\\\\extracted_data\\\\phrases\\\\data_organize\\\\avião\\\\bagagem\\\\can_i_pay_in_canadian_dollars\\\\text_v2.json'},\n",
       " {'13/05/2025 17:39:03': 'C:\\\\pyprojects\\\\fast-english\\\\database\\\\extract_data_video\\\\data\\\\extracted_data\\\\phrases\\\\data_organize\\\\avião\\\\bagagem\\\\could_i_see_your_hand_baggage,_please\\\\text_v2.json'},\n",
       " {'14/05/2025 10:54:06': 'C:\\\\pyprojects\\\\fast-english\\\\database\\\\extract_data_video\\\\data\\\\extracted_data\\\\phrases\\\\data_organize\\\\avião\\\\bagagem\\\\do_i_need_to_check_this_or_can_i_take_it_with_me\\\\text_v2.json'},\n",
       " {'14/05/2025 11:46:38': \"C:\\\\pyprojects\\\\fast-english\\\\database\\\\extract_data_video\\\\data\\\\extracted_data\\\\phrases\\\\data_organize\\\\avião\\\\bagagem\\\\i_didn't_receive_the_bag_tag_when_i_checked_in\\\\text_v2.json\"},\n",
       " {'14/05/2025 10:53:57': \"C:\\\\pyprojects\\\\fast-english\\\\database\\\\extract_data_video\\\\data\\\\extracted_data\\\\phrases\\\\data_organize\\\\avião\\\\bagagem\\\\that's_too_large_for_a_piece_of_hand_baggage\\\\text_v2.json\"},\n",
       " {'13/05/2025 17:32:27': 'C:\\\\pyprojects\\\\fast-english\\\\database\\\\extract_data_video\\\\data\\\\extracted_data\\\\phrases\\\\data_organize\\\\avião\\\\bagagem\\\\where_can_i_get_a_cart\\\\text_v2.json'},\n",
       " {'13/05/2025 16:13:57': 'C:\\\\pyprojects\\\\fast-english\\\\database\\\\extract_data_video\\\\data\\\\extracted_data\\\\phrases\\\\data_organize\\\\avião\\\\bagagem\\\\where_can_i_get_my_baggage\\\\text_v2.json'},\n",
       " {'13/05/2025 16:38:40': 'C:\\\\pyprojects\\\\fast-english\\\\database\\\\extract_data_video\\\\data\\\\extracted_data\\\\phrases\\\\data_organize\\\\avião\\\\controlo_de_passaporte_e_alfândega\\\\do_i_have_to_pay_duty_on_the_goods_i_bought_here\\\\text_v2.json'},\n",
       " {'13/05/2025 14:57:12': 'C:\\\\pyprojects\\\\fast-english\\\\database\\\\extract_data_video\\\\data\\\\extracted_data\\\\phrases\\\\data_organize\\\\avião\\\\controlo_de_passaporte_e_alfândega\\\\m_staying_at_th_four_seasons_hotel\\\\text_v2.json'},\n",
       " {'14/05/2025 11:50:18': 'C:\\\\pyprojects\\\\fast-english\\\\database\\\\extract_data_video\\\\data\\\\extracted_data\\\\phrases\\\\data_organize\\\\avião\\\\no_avião\\\\can_i_sit_over_there\\\\text_v2.json'},\n",
       " {'14/05/2025 10:37:35': 'C:\\\\pyprojects\\\\fast-english\\\\database\\\\extract_data_video\\\\data\\\\extracted_data\\\\phrases\\\\data_organize\\\\avião\\\\reservar_um_voo\\\\can_i_make_a_connection_on_the_same_day\\\\text_v2.json'},\n",
       " {'13/05/2025 13:04:03': 'C:\\\\pyprojects\\\\fast-english\\\\database\\\\extract_data_video\\\\data\\\\extracted_data\\\\phrases\\\\data_organize\\\\avião\\\\sinais_do_aeroporto\\\\pull\\\\text_v2.json'},\n",
       " {'13/05/2025 17:48:21': 'C:\\\\pyprojects\\\\fast-english\\\\database\\\\extract_data_video\\\\data\\\\extracted_data\\\\phrases\\\\data_organize\\\\carro\\\\aluguer_de_carro\\\\do_you_want_insurance\\\\text_v2.json'},\n",
       " {'13/05/2025 17:09:40': 'C:\\\\pyprojects\\\\fast-english\\\\database\\\\extract_data_video\\\\data\\\\extracted_data\\\\phrases\\\\data_organize\\\\carro\\\\aluguer_de_carro\\\\i_do_not_need_insurance\\\\text_v2.json'},\n",
       " {'13/05/2025 17:39:35': 'C:\\\\pyprojects\\\\fast-english\\\\database\\\\extract_data_video\\\\data\\\\extracted_data\\\\phrases\\\\data_organize\\\\carro\\\\aluguer_de_carro\\\\the_tank_is_not_full\\\\text_v2.json'},\n",
       " {'13/05/2025 17:41:04': 'C:\\\\pyprojects\\\\fast-english\\\\database\\\\extract_data_video\\\\data\\\\extracted_data\\\\phrases\\\\data_organize\\\\carro\\\\conduzir_e_estacionar\\\\do_you_know_these_road_signs\\\\text_v2.json'},\n",
       " {'14/05/2025 11:05:57': 'C:\\\\pyprojects\\\\fast-english\\\\database\\\\extract_data_video\\\\data\\\\extracted_data\\\\phrases\\\\data_organize\\\\carro\\\\conduzir_e_estacionar\\\\i_rarely_drive_above_100_kmh\\\\text_v2.json'},\n",
       " {'13/05/2025 17:48:48': 'C:\\\\pyprojects\\\\fast-english\\\\database\\\\extract_data_video\\\\data\\\\extracted_data\\\\phrases\\\\data_organize\\\\carro\\\\conduzir_e_estacionar\\\\remember_to_drive_on_the_left\\\\text_v2.json'},\n",
       " {'13/05/2025 17:37:50': \"C:\\\\pyprojects\\\\fast-english\\\\database\\\\extract_data_video\\\\data\\\\extracted_data\\\\phrases\\\\data_organize\\\\carro\\\\conduzir_e_estacionar\\\\you'll_cross_some_railroad_lines\\\\text_v2.json\"},\n",
       " {'13/05/2025 17:25:34': 'C:\\\\pyprojects\\\\fast-english\\\\database\\\\extract_data_video\\\\data\\\\extracted_data\\\\phrases\\\\data_organize\\\\carro\\\\sinais_de_estrada\\\\do_not_enter\\\\text_v2.json'},\n",
       " {'13/05/2025 17:23:55': \"C:\\\\pyprojects\\\\fast-english\\\\database\\\\extract_data_video\\\\data\\\\extracted_data\\\\phrases\\\\data_organize\\\\comida\\\\alimentos_básicos_e_especiarias\\\\i_can't_eat_wheat\\\\text_v2.json\"},\n",
       " {'13/05/2025 16:44:04': \"C:\\\\pyprojects\\\\fast-english\\\\database\\\\extract_data_video\\\\data\\\\extracted_data\\\\phrases\\\\data_organize\\\\comida\\\\carne_e_peixe\\\\i_don't_eat_fish\\\\text_v2.json\"},\n",
       " {'13/05/2025 17:06:33': 'C:\\\\pyprojects\\\\fast-english\\\\database\\\\extract_data_video\\\\data\\\\extracted_data\\\\phrases\\\\data_organize\\\\compras\\\\dispositivos_eletrónicos\\\\can_i_buy_a_cell_phone\\\\text_v2.json'},\n",
       " {'13/05/2025 12:56:15': 'C:\\\\pyprojects\\\\fast-english\\\\database\\\\extract_data_video\\\\data\\\\extracted_data\\\\phrases\\\\data_organize\\\\compras\\\\no_loja_de_departamentos\\\\are_there_any_salespeople_who_speak_lithuanian\\\\text_v2.json'},\n",
       " {'13/05/2025 16:47:10': 'C:\\\\pyprojects\\\\fast-english\\\\database\\\\extract_data_video\\\\data\\\\extracted_data\\\\phrases\\\\data_organize\\\\compras\\\\pagamento_&_devoluções\\\\then_i_will_go_someplace_else\\\\text_v2.json'},\n",
       " {'13/05/2025 16:15:53': \"C:\\\\pyprojects\\\\fast-english\\\\database\\\\extract_data_video\\\\data\\\\extracted_data\\\\phrases\\\\data_organize\\\\compras\\\\roupas\\\\it's_just_right\\\\text_v2.json\"},\n",
       " {'13/05/2025 16:45:06': 'C:\\\\pyprojects\\\\fast-english\\\\database\\\\extract_data_video\\\\data\\\\extracted_data\\\\phrases\\\\data_organize\\\\compras\\\\roupas\\\\i_dont_know_my_size\\\\text_v2.json'},\n",
       " {'14/05/2025 11:16:56': 'C:\\\\pyprojects\\\\fast-english\\\\database\\\\extract_data_video\\\\data\\\\extracted_data\\\\phrases\\\\data_organize\\\\compras\\\\roupas\\\\i_want_something_made_of_cotton\\\\text_v2.json'},\n",
       " {'13/05/2025 17:44:25': 'C:\\\\pyprojects\\\\fast-english\\\\database\\\\extract_data_video\\\\data\\\\extracted_data\\\\phrases\\\\data_organize\\\\compras\\\\sapatos\\\\how_do_they_feel\\\\text_v2.json'},\n",
       " {'14/05/2025 11:53:36': 'C:\\\\pyprojects\\\\fast-english\\\\database\\\\extract_data_video\\\\data\\\\extracted_data\\\\phrases\\\\data_organize\\\\conversa_geral\\\\ajuda_e_conselhos\\\\could_i_borrow_your_pen\\\\text_v2.json'},\n",
       " {'14/05/2025 10:50:13': \"C:\\\\pyprojects\\\\fast-english\\\\database\\\\extract_data_video\\\\data\\\\extracted_data\\\\phrases\\\\data_organize\\\\conversa_geral\\\\ajuda_e_conselhos\\\\if_i_were_you,_i'd_do_the_same\\\\text_v2.json\"},\n",
       " {'14/05/2025 11:20:52': \"C:\\\\pyprojects\\\\fast-english\\\\database\\\\extract_data_video\\\\data\\\\extracted_data\\\\phrases\\\\data_organize\\\\conversa_geral\\\\ajuda_e_conselhos\\\\if_i_were_you,_i'd_think_twice_about_buying_it\\\\text_v2.json\"},\n",
       " {'14/05/2025 11:05:18': \"C:\\\\pyprojects\\\\fast-english\\\\database\\\\extract_data_video\\\\data\\\\extracted_data\\\\phrases\\\\data_organize\\\\conversa_geral\\\\concordar_e_discordar\\\\i_can't_say_that_i_share_your_view\\\\text_v2.json\"},\n",
       " {'13/05/2025 17:29:39': \"C:\\\\pyprojects\\\\fast-english\\\\database\\\\extract_data_video\\\\data\\\\extracted_data\\\\phrases\\\\data_organize\\\\conversa_geral\\\\concordar_e_discordar\\\\that's_what_i_was_thinking,_too\\\\text_v2.json\"},\n",
       " {'14/05/2025 11:37:16': 'C:\\\\pyprojects\\\\fast-english\\\\database\\\\extract_data_video\\\\data\\\\extracted_data\\\\phrases\\\\data_organize\\\\educação\\\\na_escola\\\\do_you_have_a_pen_i_could_borrow\\\\text_v2.json'},\n",
       " {'13/05/2025 16:37:44': 'C:\\\\pyprojects\\\\fast-english\\\\database\\\\extract_data_video\\\\data\\\\extracted_data\\\\phrases\\\\data_organize\\\\educação\\\\vida_de_estudante\\\\can_i_borrow_a_book\\\\text_v2.json'},\n",
       " {'14/05/2025 12:10:05': 'C:\\\\pyprojects\\\\fast-english\\\\database\\\\extract_data_video\\\\data\\\\extracted_data\\\\phrases\\\\data_organize\\\\emergências\\\\acidentes\\\\linguagem_formal_op_i_had_the_right_of_way\\\\text_v2.json'},\n",
       " {'14/05/2025 10:43:43': 'C:\\\\pyprojects\\\\fast-english\\\\database\\\\extract_data_video\\\\data\\\\extracted_data\\\\phrases\\\\data_organize\\\\fazer_amigos\\\\apresentações\\\\who_is_this_young_lady\\\\text_v2.json'},\n",
       " {'13/05/2025 17:37:11': 'C:\\\\pyprojects\\\\fast-english\\\\database\\\\extract_data_video\\\\data\\\\extracted_data\\\\phrases\\\\data_organize\\\\fazer_amigos\\\\coisas_que_gosta_e_não_gosta\\\\ay_hobby_i_hotograpt\\\\text_v2.json'},\n",
       " {'14/05/2025 11:56:19': 'C:\\\\pyprojects\\\\fast-english\\\\database\\\\extract_data_video\\\\data\\\\extracted_data\\\\phrases\\\\data_organize\\\\fazer_amigos\\\\descrever_pessoas\\\\i_use_my_nose_to_smell\\\\text_v2.json'},\n",
       " {'13/05/2025 17:38:43': 'C:\\\\pyprojects\\\\fast-english\\\\database\\\\extract_data_video\\\\data\\\\extracted_data\\\\phrases\\\\data_organize\\\\fazer_amigos\\\\descrever_pessoas\\\\you_look_so_young\\\\text_v2.json'},\n",
       " {'14/05/2025 11:35:41': 'C:\\\\pyprojects\\\\fast-english\\\\database\\\\extract_data_video\\\\data\\\\extracted_data\\\\phrases\\\\data_organize\\\\fazer_amigos\\\\família_e_relacionamentos\\\\yes,_i_have_three_kids\\\\text_v2.json'},\n",
       " {'13/05/2025 16:19:00': 'C:\\\\pyprojects\\\\fast-english\\\\database\\\\extract_data_video\\\\data\\\\extracted_data\\\\phrases\\\\data_organize\\\\fazer_amigos\\\\idade_nacionalidade_e_religião\\\\i_was_born_in_1992\\\\text_v2.json'},\n",
       " {'13/05/2025 17:39:51': 'C:\\\\pyprojects\\\\fast-english\\\\database\\\\extract_data_video\\\\data\\\\extracted_data\\\\phrases\\\\data_organize\\\\fazer_amigos\\\\local_de_residência\\\\do_you_live_with_anybody\\\\text_v2.json'},\n",
       " {'13/05/2025 17:33:08': 'C:\\\\pyprojects\\\\fast-english\\\\database\\\\extract_data_video\\\\data\\\\extracted_data\\\\phrases\\\\data_organize\\\\frases_básicas\\\\instruções\\\\dont_pay_attention_to_what_he_said\\\\text_v2.json'},\n",
       " {'14/05/2025 09:20:44': 'C:\\\\pyprojects\\\\fast-english\\\\database\\\\extract_data_video\\\\data\\\\extracted_data\\\\phrases\\\\data_organize\\\\hotel\\\\alugar_um_apartamento\\\\where_do_we_pick_up_the_keys\\\\text_v2.json'},\n",
       " {'13/05/2025 17:05:55': \"C:\\\\pyprojects\\\\fast-english\\\\database\\\\extract_data_video\\\\data\\\\extracted_data\\\\phrases\\\\data_organize\\\\hotel\\\\fazer_o_check_in\\\\dinner's_served_between_6_pm_and_930_pm\\\\text_v2.json\"},\n",
       " {'14/05/2025 11:49:34': 'C:\\\\pyprojects\\\\fast-english\\\\database\\\\extract_data_video\\\\data\\\\extracted_data\\\\phrases\\\\data_organize\\\\hotel\\\\reclamações\\\\i_booked_a_double_bed,_but_i_got_a_twin\\\\text_v2.json'},\n",
       " {'14/05/2025 10:19:45': \"C:\\\\pyprojects\\\\fast-english\\\\database\\\\extract_data_video\\\\data\\\\extracted_data\\\\phrases\\\\data_organize\\\\hotel\\\\reclamações\\\\there_must_be_a_mistake_these_aren't_mine\\\\text_v2.json\"},\n",
       " {'13/05/2025 15:07:19': 'C:\\\\pyprojects\\\\fast-english\\\\database\\\\extract_data_video\\\\data\\\\extracted_data\\\\phrases\\\\data_organize\\\\meios_de_comunicação\\\\telefone\\\\we_got_cut_off\\\\text_v2.json'},\n",
       " {'14/05/2025 10:49:51': \"C:\\\\pyprojects\\\\fast-english\\\\database\\\\extract_data_video\\\\data\\\\extracted_data\\\\phrases\\\\data_organize\\\\outro_transporte\\\\na_estação_de_comboios\\\\i_don't_mind_traveling_by_train_every_day\\\\text_v2.json\"},\n",
       " {'14/05/2025 10:47:46': 'C:\\\\pyprojects\\\\fast-english\\\\database\\\\extract_data_video\\\\data\\\\extracted_data\\\\phrases\\\\data_organize\\\\saúde\\\\no_dentista\\\\can_you_fix_my_dentures\\\\text_v2.json'},\n",
       " {'14/05/2025 11:04:48': 'C:\\\\pyprojects\\\\fast-english\\\\database\\\\extract_data_video\\\\data\\\\extracted_data\\\\phrases\\\\data_organize\\\\saúde\\\\no_dentista\\\\i_brush_my_teeth\\\\text_v2.json'},\n",
       " {'14/05/2025 10:51:24': 'C:\\\\pyprojects\\\\fast-english\\\\database\\\\extract_data_video\\\\data\\\\extracted_data\\\\phrases\\\\data_organize\\\\serviços\\\\reparações\\\\the_stove_is_broken\\\\text_v2.json'},\n",
       " {'13/05/2025 17:09:26': 'C:\\\\pyprojects\\\\fast-english\\\\database\\\\extract_data_video\\\\data\\\\extracted_data\\\\phrases\\\\data_organize\\\\tempo_de_lazer\\\\desporto\\\\ho_finished_firs\\\\text_v2.json'},\n",
       " {'14/05/2025 11:58:16': 'C:\\\\pyprojects\\\\fast-english\\\\database\\\\extract_data_video\\\\data\\\\extracted_data\\\\phrases\\\\data_organize\\\\viagem\\\\dar_indicações\\\\east\\\\text_v2.json'}]"
      ]
     },
     "execution_count": 50,
     "metadata": {},
     "output_type": "execute_result"
    }
   ],
   "source": [
    "arquivos"
   ]
  },
  {
   "cell_type": "code",
   "execution_count": null,
   "metadata": {},
   "outputs": [],
   "source": []
  },
  {
   "cell_type": "code",
   "execution_count": null,
   "metadata": {},
   "outputs": [],
   "source": []
  },
  {
   "cell_type": "code",
   "execution_count": null,
   "metadata": {},
   "outputs": [],
   "source": []
  },
  {
   "cell_type": "code",
   "execution_count": null,
   "metadata": {},
   "outputs": [],
   "source": []
  }
 ],
 "metadata": {
  "kernelspec": {
   "display_name": ".venv",
   "language": "python",
   "name": "python3"
  },
  "language_info": {
   "codemirror_mode": {
    "name": "ipython",
    "version": 3
   },
   "file_extension": ".py",
   "mimetype": "text/x-python",
   "name": "python",
   "nbconvert_exporter": "python",
   "pygments_lexer": "ipython3",
   "version": "3.12.10"
  }
 },
 "nbformat": 4,
 "nbformat_minor": 2
}
