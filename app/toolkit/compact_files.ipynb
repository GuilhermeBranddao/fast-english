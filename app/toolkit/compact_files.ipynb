{
 "cells": [
  {
   "cell_type": "code",
   "execution_count": null,
   "id": "d0caa3e3",
   "metadata": {},
   "outputs": [],
   "source": [
    "# /media/guilherme/ssd_m2_data/py_new_projects/fast_english/database/extract_data_video/data/extracted_data/phrases"
   ]
  },
  {
   "cell_type": "code",
   "execution_count": null,
   "id": "4cfdd325",
   "metadata": {},
   "outputs": [
    {
     "name": "stderr",
     "output_type": "stream",
     "text": [
      "Compactando arquivos: 100%|██████████| 19576/19576 [00:30<00:00, 642.08arquivo/s]\n"
     ]
    },
    {
     "name": "stdout",
     "output_type": "stream",
     "text": [
      "Pasta compactada com sucesso: /media/guilherme/ssd_m2_data/py_new_projects/fast_english/app/toolkit/data/phrases.tar.gz\n"
     ]
    },
    {
     "name": "stderr",
     "output_type": "stream",
     "text": [
      "Compactando arquivos: 100%|██████████| 23734/23734 [00:54<00:00, 435.45arquivo/s]"
     ]
    },
    {
     "name": "stdout",
     "output_type": "stream",
     "text": [
      "Pasta compactada com sucesso: /media/guilherme/ssd_m2_data/py_new_projects/fast_english/app/toolkit/data/words.tar.gz\n"
     ]
    },
    {
     "name": "stderr",
     "output_type": "stream",
     "text": [
      "\n"
     ]
    }
   ],
   "source": [
    "from tqdm import tqdm\n",
    "import tarfile\n",
    "import os\n",
    "\n",
    "def compactar_pasta_com_caminhos_fixos(path_origin, path_destivo, list_folder_ignore=None):\n",
    "    \"\"\"\n",
    "    Compacta uma pasta em um arquivo .tar.gz, ignorando pastas especificadas.\n",
    "\n",
    "    Args:\n",
    "        path_origin (str): Caminho da pasta a ser compactada.\n",
    "        list_folder_ignore (list): Lista de nomes de pastas a serem ignoradas.\n",
    "    \"\"\"\n",
    "    # Nome do arquivo compactado\n",
    "    compressed_path = os.path.join(path_destivo, os.path.basename(path_origin) + \".tar.gz\")\n",
    "\n",
    "    try:\n",
    "        # Obter a lista de arquivos para calcular o progresso\n",
    "        arquivos = []\n",
    "        for root_dir, dirs, files in os.walk(path_origin):\n",
    "            dirs[:] = [d for d in dirs if d not in (list_folder_ignore or [])]\n",
    "\n",
    "            for file in files:\n",
    "                arquivos.append(os.path.join(root_dir, file))\n",
    "\n",
    "        # Compactação usando tarfile com barra de progresso\n",
    "        with tarfile.open(compressed_path, \"w:gz\") as tar:\n",
    "            for arquivo in tqdm(arquivos, desc=\"Compactando arquivos\", unit=\"arquivo\"):\n",
    "                tar.add(arquivo, arcname=os.path.relpath(arquivo, start=os.path.dirname(path_origin)))\n",
    "\n",
    "        print(f\"Pasta compactada com sucesso: {compressed_path}\")\n",
    "    except Exception as e:\n",
    "        print(f\"Erro ao compactar a pasta: {e}\")\n",
    "\n",
    "# Lista de pastas a serem ignoradas\n",
    "list_folder_ignore = [\"audio\", \"video\", \"image\", \"recortes\"]\n",
    "\n",
    "\n",
    "# Exemplo de uso\n",
    "path_origin_phrases = \"/media/guilherme/ssd_m2_data/py_new_projects/fast_english/database/extract_data_video/data/extracted_data/phrases\"\n",
    "path_origin_words = \"/media/guilherme/ssd_m2_data/py_new_projects/fast_english/database/extract_data_video/data/extracted_data/words\"\n",
    "\n",
    "path_destivo = \"/media/guilherme/ssd_m2_data/py_new_projects/fast_english/app/toolkit/data\"\n",
    "\n",
    "# Exemplo de uso\n",
    "compactar_pasta_com_caminhos_fixos(path_origin_phrases, path_destivo, list_folder_ignore)\n",
    "compactar_pasta_com_caminhos_fixos(path_origin_words, path_destivo, list_folder_ignore)"
   ]
  },
  {
   "cell_type": "code",
   "execution_count": 23,
   "id": "88bdd28a",
   "metadata": {},
   "outputs": [
    {
     "name": "stdout",
     "output_type": "stream",
     "text": [
      "Arquivo descompactado com sucesso em: /media/guilherme/ssd_m2_data/py_new_projects/fast_english/app/toolkit/data/\n",
      "Arquivo descompactado com sucesso em: /media/guilherme/ssd_m2_data/py_new_projects/fast_english/app/toolkit/data/\n"
     ]
    },
    {
     "data": {
      "text/plain": [
       "'/media/guilherme/ssd_m2_data/py_new_projects/fast_english/app/toolkit/data/'"
      ]
     },
     "execution_count": 23,
     "metadata": {},
     "output_type": "execute_result"
    }
   ],
   "source": [
    "import tarfile\n",
    "import os\n",
    "\n",
    "def descompactar_tar_gz(tar_gz_path, output_dir):\n",
    "    \"\"\"\n",
    "    Descompacta um arquivo .tar.gz para o diretório de saída especificado.\n",
    "\n",
    "    Args:\n",
    "        tar_gz_path (str): Caminho do arquivo .tar.gz a ser descompactado.\n",
    "        output_dir (str): Diretório onde o conteúdo será extraído.\n",
    "\n",
    "    Returns:\n",
    "        str: Caminho do diretório extraído, ou None em caso de erro.\n",
    "    \"\"\"\n",
    "    if not tar_gz_path.endswith(\".tar.gz\"):\n",
    "        print(f\"Erro: O arquivo {tar_gz_path} não é um arquivo .tar.gz válido.\")\n",
    "        return None\n",
    "\n",
    "    try:\n",
    "        # Certifique-se de que o diretório de saída existe\n",
    "        os.makedirs(output_dir, exist_ok=True)\n",
    "\n",
    "        # Extrair o arquivo .tar.gz\n",
    "        with tarfile.open(tar_gz_path, \"r:gz\") as tar:\n",
    "            tar.extractall(path=output_dir)\n",
    "\n",
    "        print(f\"Arquivo descompactado com sucesso em: {output_dir}\")\n",
    "        return output_dir\n",
    "    except FileNotFoundError:\n",
    "        print(f\"Erro: O arquivo {tar_gz_path} não foi encontrado.\")\n",
    "    except PermissionError:\n",
    "        print(f\"Erro: Permissão negada ao acessar {tar_gz_path} ou {output_dir}.\")\n",
    "    except Exception as e:\n",
    "        print(f\"Erro inesperado ao descompactar o arquivo {tar_gz_path}: {e}\")\n",
    "\n",
    "    return None\n",
    "\n",
    "output_directory = \"/media/guilherme/ssd_m2_data/py_new_projects/fast_english/app/toolkit/data/\"\n",
    "\n",
    "path_origin_phrases = \"/media/guilherme/ssd_m2_data/py_new_projects/fast_english/app/toolkit/data/phrases\"\n",
    "path_origin_words = \"/media/guilherme/ssd_m2_data/py_new_projects/fast_english/app/toolkit/data/words\"\n",
    "\n",
    "# Exemplo de uso\n",
    "descompactar_tar_gz(path_origin_phrases + \".tar.gz\", output_directory)\n",
    "descompactar_tar_gz(path_origin_words + \".tar.gz\", output_directory)"
   ]
  },
  {
   "cell_type": "code",
   "execution_count": null,
   "id": "124c73f6",
   "metadata": {},
   "outputs": [],
   "source": []
  },
  {
   "cell_type": "code",
   "execution_count": null,
   "metadata": {},
   "outputs": [],
   "source": []
  },
  {
   "cell_type": "code",
   "execution_count": null,
   "id": "2854e37e",
   "metadata": {},
   "outputs": [],
   "source": []
  },
  {
   "cell_type": "code",
   "execution_count": null,
   "id": "b7b4ecbe",
   "metadata": {},
   "outputs": [],
   "source": []
  },
  {
   "cell_type": "code",
   "execution_count": null,
   "id": "3698308a",
   "metadata": {},
   "outputs": [],
   "source": []
  },
  {
   "cell_type": "code",
   "execution_count": null,
   "id": "95cb3782",
   "metadata": {},
   "outputs": [],
   "source": []
  },
  {
   "cell_type": "code",
   "execution_count": null,
   "id": "adecee02",
   "metadata": {},
   "outputs": [],
   "source": [
    "import gzip\n",
    "import shutil\n",
    "\n",
    "def descompactar_fasta_interativo():\n",
    "    # Inicializar a interface Tkinter\n",
    "    root = tk.Tk()\n",
    "    root.withdraw()  # Ocultar a janela principal do Tkinter\n",
    "\n",
    "    # Selecionar o arquivo .gz de origem\n",
    "    gz_path = filedialog.askopenfilename(title=\"Selecione o arquivo .gz para descompactar\", filetypes=[(\"Arquivos GZ\", \"*.gz\")])\n",
    "\n",
    "    if not gz_path:\n",
    "        print(\"Nenhum arquivo selecionado.\")\n",
    "        return\n",
    "\n",
    "    if not gz_path.endswith(\".gz\"):\n",
    "        print(\"O arquivo selecionado não é um arquivo .gz\")\n",
    "        return\n",
    "\n",
    "    # Selecionar o local de destino\n",
    "    output_dir = filedialog.askdirectory(title=\"Selecione o diretório de destino\")\n",
    "\n",
    "    if not output_dir:\n",
    "        print(\"Nenhum diretório de destino selecionado.\")\n",
    "        return\n",
    "\n",
    "    # Caminho do arquivo descompactado\n",
    "    output_path = os.path.join(output_dir, os.path.basename(gz_path)[:-3])  # Remove o .gz\n",
    "\n",
    "    try:\n",
    "        # Descompactar o arquivo\n",
    "        with gzip.open(gz_path, 'rb') as f_in:\n",
    "            with open(output_path, 'wb') as f_out:\n",
    "                shutil.copyfileobj(f_in, f_out)\n",
    "\n",
    "        print(f\"Arquivo descompactado com sucesso: {output_path}\")\n",
    "    except Exception as e:\n",
    "        print(f\"Erro ao descompactar o arquivo: {e}\")\n",
    "\n",
    "# Exemplo de uso\n",
    "descompactar_fasta_interativo()"
   ]
  },
  {
   "cell_type": "code",
   "execution_count": null,
   "id": "5dd3b93a",
   "metadata": {},
   "outputs": [],
   "source": []
  },
  {
   "cell_type": "code",
   "execution_count": null,
   "id": "37f30082",
   "metadata": {},
   "outputs": [],
   "source": []
  },
  {
   "cell_type": "code",
   "execution_count": null,
   "id": "d628276a",
   "metadata": {},
   "outputs": [],
   "source": []
  },
  {
   "cell_type": "code",
   "execution_count": null,
   "id": "ad256331",
   "metadata": {},
   "outputs": [],
   "source": []
  },
  {
   "cell_type": "code",
   "execution_count": null,
   "id": "401e2097",
   "metadata": {},
   "outputs": [],
   "source": []
  },
  {
   "cell_type": "code",
   "execution_count": null,
   "id": "0a413dec",
   "metadata": {},
   "outputs": [],
   "source": []
  }
 ],
 "metadata": {
  "kernelspec": {
   "display_name": "fast-english-s-Sv58CE-py3.12",
   "language": "python",
   "name": "python3"
  },
  "language_info": {
   "codemirror_mode": {
    "name": "ipython",
    "version": 3
   },
   "file_extension": ".py",
   "mimetype": "text/x-python",
   "name": "python",
   "nbconvert_exporter": "python",
   "pygments_lexer": "ipython3",
   "version": "3.12.3"
  }
 },
 "nbformat": 4,
 "nbformat_minor": 5
}
