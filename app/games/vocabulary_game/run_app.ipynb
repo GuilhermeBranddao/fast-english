{
 "cells": [
  {
   "cell_type": "markdown",
   "metadata": {},
   "source": [
    "## Anki\n",
    "\n",
    "\n",
    "Parei na parte 5: Lost and Found"
   ]
  },
  {
   "cell_type": "code",
   "execution_count": 36,
   "metadata": {},
   "outputs": [],
   "source": [
    "%load_ext autoreload \n",
    "%autoreload 2"
   ]
  },
  {
   "cell_type": "code",
   "execution_count": 37,
   "metadata": {},
   "outputs": [],
   "source": [
    "import os\n",
    "os.chdir(\"..\")\n",
    "os.chdir(\"..\")\n",
    "os.chdir(\"..\")"
   ]
  },
  {
   "cell_type": "code",
   "execution_count": null,
   "metadata": {},
   "outputs": [],
   "source": [
    "from app.utils.toolkit import read_json\n",
    "import random\n",
    "\n",
    "\n",
    "WORD_FILE = \"database/vocabulary_json/describing_things/adjectives.json\"\n",
    "\n",
    "data = read_json(WORD_FILE)\n",
    "\n",
    "\n",
    "word = random.choice(list(data.keys())).upper()\n",
    "\n",
    "\n",
    "word_answer = data.pop(c.lower())"
   ]
  },
  {
   "cell_type": "code",
   "execution_count": 48,
   "metadata": {},
   "outputs": [
    {
     "data": {
      "text/plain": [
       "('LONGO', 'long')"
      ]
     },
     "execution_count": 48,
     "metadata": {},
     "output_type": "execute_result"
    }
   ],
   "source": [
    "word, word_answer"
   ]
  },
  {
   "cell_type": "code",
   "execution_count": null,
   "metadata": {},
   "outputs": [],
   "source": []
  },
  {
   "cell_type": "code",
   "execution_count": 3,
   "metadata": {},
   "outputs": [],
   "source": [
    "from app.model.vocabulary_model import VocabularyModel\n",
    "# from app.games.vocabulary_game.view.vocabulary_view import ControladorDePaginas\n",
    "from app.games.vocabulary_game.controller.vocabulary_controller import VocabularyController\n",
    "\n",
    "import tkinter as tk\n",
    "import tkinter as tk\n",
    "from PIL import Image, ImageTk\n",
    "from tkinter import ttk, messagebox\n"
   ]
  },
  {
   "cell_type": "markdown",
   "metadata": {},
   "source": [
    "#### Melhorias \n",
    "\n",
    "- Pontuação\n",
    "- Armazenar palavras aprendidas\n",
    "    - Saber quais palavras tenho facilidade\n",
    "    - Saber quais palavras tenho mais dificuldade \n",
    "\n",
    "- Cirar função para caregar as palavras usasas nos desafios\n",
    "\n",
    "\n",
    "- Coletar dados de palavras do Duolingo\n",
    "    - https://duome.eu/tips/pt/en\n",
    "    - https://duome.eu/stories/pt/en\n",
    "\n",
    "\n",
    "---\n",
    "\n",
    "- Como pontuar a difficulty\n",
    "\n",
    "difficulty = quanto maior mais dificil (0 a 100)\n",
    "\n",
    "---\n",
    "\n",
    "{\"word\", \"is_correct\", , \"difficulty\", \"game\"}"
   ]
  },
  {
   "cell_type": "code",
   "execution_count": null,
   "metadata": {},
   "outputs": [],
   "source": [
    "class ScoreManager:\n",
    "    \"\"\"Gerenciador de pontuações e estatísticas de dificuldade.\"\"\"\n",
    "    \n",
    "    def __init__(self):\n",
    "        self.scores = 0\n",
    "        self.word_stats = {}  # Ex.: {\"word\": {\"correct\": 0, \"incorrect\": 0}}\n",
    "\n",
    "    def add_points(self, points: int):\n",
    "        \"\"\"Adiciona pontos ao total.\"\"\"\n",
    "        self.scores += points\n",
    "\n",
    "    def deduct_points(self, points: int):\n",
    "        \"\"\"Deduz pontos do total.\"\"\"\n",
    "        self.scores -= points\n",
    "\n",
    "    def register_word(self, word: str, correct: bool):\n",
    "        \"\"\"Atualiza estatísticas de palavras.\"\"\"\n",
    "        if word not in self.word_stats:\n",
    "            self.word_stats[word] = {\"correct\": 0, \"incorrect\": 0}\n",
    "        \n",
    "        if correct:\n",
    "            self.word_stats[word][\"correct\"] += 1\n",
    "        else:\n",
    "            self.word_stats[word][\"incorrect\"] += 1\n",
    "\n",
    "    def get_word_difficulty(self, word: str):\n",
    "        \"\"\"Calcula a dificuldade da palavra com base nas tentativas.\"\"\"\n",
    "        if word not in self.word_stats:\n",
    "            return None\n",
    "        \n",
    "        stats = self.word_stats[word]\n",
    "        total_attempts = stats[\"correct\"] + stats[\"incorrect\"]\n",
    "        if total_attempts == 0:\n",
    "            return 0\n",
    "        return stats[\"incorrect\"] / total_attempts  # Percentual de erros\n",
    "\n",
    "    def get_total_score(self):\n",
    "        \"\"\"Retorna a pontuação total.\"\"\"\n",
    "        return self.scores\n",
    "\n",
    "    def get_difficulty_summary(self):\n",
    "        \"\"\"Retorna um resumo de palavras mais difíceis/fáceis.\"\"\"\n",
    "        sorted_words = sorted(\n",
    "            self.word_stats.items(),\n",
    "            key=lambda x: self.get_word_difficulty(x[0]),\n",
    "            reverse=True\n",
    "        )\n",
    "        return sorted_words\n"
   ]
  },
  {
   "cell_type": "code",
   "execution_count": null,
   "metadata": {},
   "outputs": [],
   "source": [
    "score = ScoreManager()\n",
    "\n",
    "score"
   ]
  },
  {
   "cell_type": "code",
   "execution_count": 34,
   "metadata": {},
   "outputs": [
    {
     "data": {
      "text/plain": [
       "1"
      ]
     },
     "execution_count": 34,
     "metadata": {},
     "output_type": "execute_result"
    }
   ],
   "source": [
    "(6 - 5) #/ 6"
   ]
  },
  {
   "cell_type": "code",
   "execution_count": 53,
   "metadata": {},
   "outputs": [
    {
     "data": {
      "text/html": [
       "<div>\n",
       "<style scoped>\n",
       "    .dataframe tbody tr th:only-of-type {\n",
       "        vertical-align: middle;\n",
       "    }\n",
       "\n",
       "    .dataframe tbody tr th {\n",
       "        vertical-align: top;\n",
       "    }\n",
       "\n",
       "    .dataframe thead th {\n",
       "        text-align: right;\n",
       "    }\n",
       "</style>\n",
       "<table border=\"1\" class=\"dataframe\">\n",
       "  <thead>\n",
       "    <tr style=\"text-align: right;\">\n",
       "      <th></th>\n",
       "      <th>word</th>\n",
       "      <th>won</th>\n",
       "      <th>difficulty</th>\n",
       "      <th>game</th>\n",
       "    </tr>\n",
       "  </thead>\n",
       "  <tbody>\n",
       "  </tbody>\n",
       "</table>\n",
       "</div>"
      ],
      "text/plain": [
       "Empty DataFrame\n",
       "Columns: [word, won, difficulty, game]\n",
       "Index: []"
      ]
     },
     "execution_count": 53,
     "metadata": {},
     "output_type": "execute_result"
    }
   ],
   "source": [
    "import pandas as pd\n",
    "\n",
    "pd.read_csv(\"database/infos/game.csv\")"
   ]
  },
  {
   "cell_type": "code",
   "execution_count": 1,
   "metadata": {},
   "outputs": [
    {
     "data": {
      "text/plain": [
       "{'word': 'teste', 'is_correct': True, 'difficulty': 0, 'game': 'game_teste'}"
      ]
     },
     "execution_count": 1,
     "metadata": {},
     "output_type": "execute_result"
    }
   ],
   "source": [
    "{\"word\":\"teste\", \"is_correct\":True, \"difficulty\":0, \"game\":\"game_teste\"}"
   ]
  },
  {
   "cell_type": "code",
   "execution_count": 54,
   "metadata": {},
   "outputs": [
    {
     "name": "stdout",
     "output_type": "stream",
     "text": [
      "[DEBUG] Categoria selecionada: fruits\n",
      "[DEBUG] Subcategorias retornadas: ['temperate', 'tropical']\n"
     ]
    }
   ],
   "source": [
    "from app.main import PageController\n",
    "\n",
    "app = PageController()\n",
    "app.mainloop()\n",
    "\n",
    "# python -m app.main\n",
    "\n",
    "# python -m app.games.hangman_game.main"
   ]
  },
  {
   "cell_type": "code",
   "execution_count": 7,
   "metadata": {},
   "outputs": [
    {
     "ename": "NameError",
     "evalue": "name 'end' is not defined",
     "output_type": "error",
     "traceback": [
      "\u001b[0;31m---------------------------------------------------------------------------\u001b[0m",
      "\u001b[0;31mNameError\u001b[0m                                 Traceback (most recent call last)",
      "Cell \u001b[0;32mIn[7], line 1\u001b[0m\n\u001b[0;32m----> 1\u001b[0m \u001b[43mend\u001b[49m\n",
      "\u001b[0;31mNameError\u001b[0m: name 'end' is not defined"
     ]
    }
   ],
   "source": [
    "end"
   ]
  },
  {
   "cell_type": "code",
   "execution_count": null,
   "metadata": {},
   "outputs": [],
   "source": [
    "# # # Inicializa o jogo\n",
    "# if __name__ == \"__main__\":\n",
    "#     root = tk.Tk()\n",
    "#     root.title(\"Vocabulary Game\")\n",
    "#     game = VocabularyGame(root)\n",
    "#     game.pack(expand=True, fill='both')\n",
    "#     root.geometry(\"375x350\")\n",
    "#     root.mainloop()"
   ]
  },
  {
   "cell_type": "code",
   "execution_count": null,
   "metadata": {},
   "outputs": [
    {
     "ename": "",
     "evalue": "",
     "output_type": "error",
     "traceback": [
      "\u001b[1;31mThe Kernel crashed while executing code in the current cell or a previous cell. \n",
      "\u001b[1;31mPlease review the code in the cell(s) to identify a possible cause of the failure. \n",
      "\u001b[1;31mClick <a href='https://aka.ms/vscodeJupyterKernelCrash'>here</a> for more info. \n",
      "\u001b[1;31mView Jupyter <a href='command:jupyter.viewOutput'>log</a> for further details."
     ]
    }
   ],
   "source": [
    "import tkinter as tk\n",
    "from tkinter import ttk\n",
    "from app.games.vocabulary_game.main import VocabularyGame\n",
    "\n",
    "\n",
    "class VocabularyGameView(tk.Frame):\n",
    "    \"\"\"Tela do Jogo de Vocabulário com estatísticas estilizadas no cantinho.\"\"\"\n",
    "\n",
    "    def __init__(self, parent, controller=None, **kwargs):\n",
    "        super().__init__(parent, **kwargs)\n",
    "\n",
    "        # Divisão da interface em dois frames\n",
    "        self.game_frame = tk.Frame(self, bg=\"#ffffff\")  # Área do jogo com fundo branco\n",
    "        self.stats_frame = tk.Frame(self, bg=\"#2c3e50\", width=220, relief=\"raised\", bd=2)  # Estatísticas com bordas\n",
    "\n",
    "        self.stats_frame.pack(side=\"left\", fill=\"y\", padx=5, pady=5)  # Estatísticas na lateral direita\n",
    "        self.game_frame.pack(side=\"right\", fill=\"both\", expand=True, padx=5, pady=5)  # Espaçamento para o frame do jogo\n",
    "\n",
    "        # Estatísticas\n",
    "        self.stats = {\"Pontuação\": 0, \"Palavras Faltantes\": 10}\n",
    "        self.create_stats_view()\n",
    "\n",
    "        # Adiciona o jogo ao frame principal\n",
    "        self.game_instance = VocabularyGame(self.game_frame)\n",
    "        self.game_instance.pack(expand=True, fill=\"both\")\n",
    "\n",
    "    def create_stats_view(self):\n",
    "        \"\"\"Cria a área de exibição de estatísticas.\"\"\"\n",
    "        # Título das estatísticas\n",
    "        title_label = tk.Label(\n",
    "            self.stats_frame, text=\"Estatísticas\", font=(\"Helvetica\", 16, \"bold\"),\n",
    "            bg=\"#34495e\", fg=\"#ecf0f1\", pady=10\n",
    "        )\n",
    "        title_label.pack(fill=\"x\")\n",
    "\n",
    "        # Exibição das estatísticas em labels\n",
    "        self.stat_labels = {}\n",
    "        for metric in self.stats.keys():\n",
    "            frame = tk.Frame(self.stats_frame, bg=\"#2c3e50\")\n",
    "            frame.pack(fill=\"x\", padx=10, pady=5)\n",
    "\n",
    "            metric_label = tk.Label(\n",
    "                frame, text=metric, font=(\"Helvetica\", 12, \"bold\"),\n",
    "                bg=\"#2c3e50\", fg=\"#ecf0f1\"\n",
    "            )\n",
    "            metric_label.pack(side=\"left\")\n",
    "\n",
    "            value_label = tk.Label(\n",
    "                frame, text=str(self.stats[metric]), font=(\"Helvetica\", 12),\n",
    "                bg=\"#2c3e50\", fg=\"#1abc9c\"\n",
    "            )\n",
    "            value_label.pack(side=\"right\")\n",
    "\n",
    "            self.stat_labels[metric] = value_label\n",
    "\n",
    "        # Botão para atualizar estatísticas\n",
    "        update_button = tk.Button(\n",
    "            self.stats_frame, text=\"Atualizar\", command=self.update_stats,\n",
    "            font=(\"Helvetica\", 10, \"bold\"), bg=\"#1abc9c\", fg=\"#ffffff\", bd=0,\n",
    "            activebackground=\"#16a085\", activeforeground=\"#ecf0f1\"\n",
    "        )\n",
    "        update_button.pack(pady=15, ipadx=10, ipady=5)\n",
    "\n",
    "    def update_stats(self):\n",
    "        \"\"\"Atualiza as estatísticas (exemplo funcionalidade).\"\"\"\n",
    "        self.stats[\"Pontuação\"] += 10\n",
    "        self.stats[\"Palavras Faltantes\"] = max(0, self.stats[\"Palavras Faltantes\"] - 1)  # Evita número negativo\n",
    "\n",
    "        # Atualiza os valores na interface\n",
    "        for metric, value in self.stats.items():\n",
    "            self.stat_labels[metric].config(text=str(value))\n",
    "\n",
    "\n",
    "# Executar o jogo\n",
    "if __name__ == \"__main__\":\n",
    "    root = tk.Tk()\n",
    "    root.title(\"Vocabulary Game\")\n",
    "    game = VocabularyGameView(root)\n",
    "    game.pack(expand=True, fill='both')\n",
    "    root.geometry(\"700x500\")\n",
    "    root.mainloop()"
   ]
  },
  {
   "cell_type": "code",
   "execution_count": null,
   "metadata": {},
   "outputs": [],
   "source": []
  },
  {
   "cell_type": "code",
   "execution_count": null,
   "metadata": {},
   "outputs": [
    {
     "name": "stdout",
     "output_type": "stream",
     "text": [
      "Collecting language_tool_python\n",
      "  Downloading language_tool_python-2.9.3-py3-none-any.whl.metadata (54 kB)\n",
      "\u001b[2K     \u001b[90m━━━━━━━━━━━━━━━━━━━━━━━━━━━━━━━━━━━━━━━\u001b[0m \u001b[32m54.7/54.7 kB\u001b[0m \u001b[31m631.7 kB/s\u001b[0m eta \u001b[36m0:00:00\u001b[0ma \u001b[36m0:00:01\u001b[0m\n",
      "\u001b[?25hRequirement already satisfied: requests in /home/guilherme/.cache/pypoetry/virtualenvs/fast-english-s-Sv58CE-py3.12/lib/python3.12/site-packages (from language_tool_python) (2.32.3)\n",
      "Requirement already satisfied: tqdm in /home/guilherme/.cache/pypoetry/virtualenvs/fast-english-s-Sv58CE-py3.12/lib/python3.12/site-packages (from language_tool_python) (4.67.1)\n",
      "Requirement already satisfied: psutil in /home/guilherme/.cache/pypoetry/virtualenvs/fast-english-s-Sv58CE-py3.12/lib/python3.12/site-packages (from language_tool_python) (6.1.1)\n",
      "Collecting toml (from language_tool_python)\n",
      "  Downloading toml-0.10.2-py2.py3-none-any.whl.metadata (7.1 kB)\n",
      "Requirement already satisfied: charset-normalizer<4,>=2 in /home/guilherme/.cache/pypoetry/virtualenvs/fast-english-s-Sv58CE-py3.12/lib/python3.12/site-packages (from requests->language_tool_python) (3.4.1)\n",
      "Requirement already satisfied: idna<4,>=2.5 in /home/guilherme/.cache/pypoetry/virtualenvs/fast-english-s-Sv58CE-py3.12/lib/python3.12/site-packages (from requests->language_tool_python) (3.10)\n",
      "Requirement already satisfied: urllib3<3,>=1.21.1 in /home/guilherme/.cache/pypoetry/virtualenvs/fast-english-s-Sv58CE-py3.12/lib/python3.12/site-packages (from requests->language_tool_python) (2.3.0)\n",
      "Requirement already satisfied: certifi>=2017.4.17 in /home/guilherme/.cache/pypoetry/virtualenvs/fast-english-s-Sv58CE-py3.12/lib/python3.12/site-packages (from requests->language_tool_python) (2024.12.14)\n",
      "Downloading language_tool_python-2.9.3-py3-none-any.whl (55 kB)\n",
      "\u001b[2K   \u001b[90m━━━━━━━━━━━━━━━━━━━━━━━━━━━━━━━━━━━━━━━━\u001b[0m \u001b[32m55.1/55.1 kB\u001b[0m \u001b[31m378.4 kB/s\u001b[0m eta \u001b[36m0:00:00\u001b[0m\u001b[36m0:00:01\u001b[0m\n",
      "\u001b[?25hDownloading toml-0.10.2-py2.py3-none-any.whl (16 kB)\n",
      "Installing collected packages: toml, language_tool_python\n",
      "Successfully installed language_tool_python-2.9.3 toml-0.10.2\n"
     ]
    }
   ],
   "source": [
    "!pip install language_tool_python\n"
   ]
  },
  {
   "cell_type": "code",
   "execution_count": 14,
   "metadata": {},
   "outputs": [],
   "source": [
    "import tkinter as tk\n",
    "from tkinter import messagebox\n",
    "\n",
    "def show_message():\n",
    "    \"\"\"Exibe uma mensagem ao clicar no botão.\"\"\"\n",
    "    messagebox.showerror(\"Mensagem\", \"Olá! Seja bem-vindo ao Tkinter!\")\n",
    "\n",
    "# Cria a janela principal\n",
    "root = tk.Tk()\n",
    "root.title(\"Exemplo Tkinter\")\n",
    "root.geometry(\"300x150\")  # Define o tamanho da janela\n",
    "\n",
    "# Adiciona um botão\n",
    "button = tk.Button(root, text=\"Clique aqui\", command=show_message)\n",
    "button.pack(pady=20)  # Adiciona um espaço vertical ao redor do botão\n",
    "\n",
    "# Inicia o loop principal da aplicação\n",
    "root.mainloop()"
   ]
  },
  {
   "cell_type": "code",
   "execution_count": null,
   "metadata": {},
   "outputs": [
    {
     "name": "stdout",
     "output_type": "stream",
     "text": [
      "teste\n",
      "wdw\n"
     ]
    }
   ],
   "source": [
    "texto = \"teste wdw    \"\n",
    "\n",
    "for i in texto.split():\n",
    "    print(i)"
   ]
  },
  {
   "cell_type": "code",
   "execution_count": null,
   "metadata": {},
   "outputs": [],
   "source": []
  },
  {
   "cell_type": "code",
   "execution_count": null,
   "metadata": {},
   "outputs": [
    {
     "data": {
      "text/plain": [
       "False"
      ]
     },
     "execution_count": 7,
     "metadata": {},
     "output_type": "execute_result"
    }
   ],
   "source": [
    "\"rfff\" in  word_list"
   ]
  },
  {
   "cell_type": "code",
   "execution_count": null,
   "metadata": {},
   "outputs": [
    {
     "name": "stdout",
     "output_type": "stream",
     "text": [
      "word: i, res: True\n",
      "word: have, res: True\n",
      "word: a, res: True\n",
      "word: test, res: True\n",
      "word: dfrr, res: False\n"
     ]
    },
    {
     "data": {
      "text/plain": [
       "['dfrr']"
      ]
     },
     "execution_count": 36,
     "metadata": {},
     "output_type": "execute_result"
    }
   ],
   "source": [
    "content = \"i have a test dfrr\"\n",
    "\n",
    "for word in content.split():\n",
    "    res = check_spelling(word, word_list)\n",
    "    print(f\"word: {word}, res: {res}\")\n",
    "\n",
    "[word for word in content.split() if not check_spelling(word, word_list)]"
   ]
  },
  {
   "cell_type": "code",
   "execution_count": null,
   "metadata": {},
   "outputs": [],
   "source": []
  },
  {
   "cell_type": "code",
   "execution_count": null,
   "metadata": {},
   "outputs": [],
   "source": []
  },
  {
   "cell_type": "code",
   "execution_count": null,
   "metadata": {},
   "outputs": [
    {
     "name": "stdout",
     "output_type": "stream",
     "text": [
      "Texto corrigido:\n",
      "In the moving I listen to the radio and sleep, in the night I cook dinner to me end feed the cat, in the other day e catch the bus to work end day I have a break\n"
     ]
    }
   ],
   "source": [
    "import language_tool_python\n",
    "\n",
    "def corrigir_texto_automatico(texto):\n",
    "    tool = language_tool_python.LanguageTool('en-US')  # Inglês americano\n",
    "    matches = tool.check(texto)\n",
    "    texto_corrigido = language_tool_python.utils.correct(texto, matches)\n",
    "    return texto_corrigido\n",
    "\n",
    "# Exemplo de uso\n",
    "texto_usuario = \"in the moring i listen to the radio and sleep, in the night i cook dinner to me end feed the cat, in the other day e catch the bus to work end end day i have a break\"\n",
    "texto_corrigido = corrigir_texto_automatico(texto_usuario)\n",
    "\n",
    "print(\"Texto corrigido:\")\n",
    "print(texto_corrigido)\n"
   ]
  },
  {
   "cell_type": "code",
   "execution_count": null,
   "metadata": {},
   "outputs": [],
   "source": [
    "import tkinter as tk\n",
    "\n",
    "\n",
    "\n",
    "\n"
   ]
  },
  {
   "cell_type": "code",
   "execution_count": null,
   "metadata": {},
   "outputs": [],
   "source": []
  },
  {
   "cell_type": "code",
   "execution_count": null,
   "metadata": {},
   "outputs": [
    {
     "name": "stdout",
     "output_type": "stream",
     "text": [
      "{'teste': 'ok'}\n"
     ]
    }
   ],
   "source": [
    "def teste(**kwargs):\n",
    "    print(kwargs)\n",
    "\n",
    "teste(**{\"teste\":\"ok\"})"
   ]
  },
  {
   "cell_type": "code",
   "execution_count": null,
   "metadata": {},
   "outputs": [],
   "source": []
  },
  {
   "cell_type": "code",
   "execution_count": null,
   "metadata": {},
   "outputs": [],
   "source": []
  },
  {
   "cell_type": "code",
   "execution_count": null,
   "metadata": {},
   "outputs": [
    {
     "name": "stderr",
     "output_type": "stream",
     "text": [
      "<>:4: SyntaxWarning: invalid escape sequence '\\m'\n",
      "<>:4: SyntaxWarning: invalid escape sequence '\\m'\n",
      "C:\\Users\\Concremat\\AppData\\Local\\Temp\\ipykernel_33308\\3254433291.py:4: SyntaxWarning: invalid escape sequence '\\m'\n",
      "  imagem_pil = Image.open(\"database/images/time_expressions\\monday.png\")\n"
     ]
    }
   ],
   "source": [
    "from PIL import Image, ImageTk\n",
    "\n",
    "\n",
    "imagem_pil = Image.open(\"database/images/time_expressions\\monday.png\")"
   ]
  },
  {
   "cell_type": "code",
   "execution_count": null,
   "metadata": {},
   "outputs": [
    {
     "data": {
      "image/jpeg": "[encoded data removed]",
      "image/png": "[encoded data removed]",
      "text/plain": [
       "<PIL.PngImagePlugin.PngImageFile image mode=RGB size=65x60>"
      ]
     },
     "execution_count": 8,
     "metadata": {},
     "output_type": "execute_result"
    }
   ],
   "source": [
    "imagem_pil"
   ]
  },
  {
   "cell_type": "markdown",
   "metadata": {},
   "source": [
    "----"
   ]
  },
  {
   "cell_type": "code",
   "execution_count": null,
   "metadata": {},
   "outputs": [
    {
     "ename": "TypeError",
     "evalue": "VocabularyController.__init__() missing 2 required positional arguments: 'root' and 'model'",
     "output_type": "error",
     "traceback": [
      "\u001b[0;31m---------------------------------------------------------------------------\u001b[0m",
      "\u001b[0;31mTypeError\u001b[0m                                 Traceback (most recent call last)",
      "Cell \u001b[0;32mIn[40], line 147\u001b[0m\n\u001b[1;32m    145\u001b[0m root \u001b[38;5;241m=\u001b[39m tk\u001b[38;5;241m.\u001b[39mTk()\n\u001b[1;32m    146\u001b[0m root\u001b[38;5;241m.\u001b[39mtitle(\u001b[38;5;124m\"\u001b[39m\u001b[38;5;124mHangman Game\u001b[39m\u001b[38;5;124m\"\u001b[39m)\n\u001b[0;32m--> 147\u001b[0m game \u001b[38;5;241m=\u001b[39m VocabularyGame(root, controller\u001b[38;5;241m=\u001b[39m\u001b[43mVocabularyController\u001b[49m\u001b[43m(\u001b[49m\u001b[43m)\u001b[49m)\n\u001b[1;32m    148\u001b[0m game\u001b[38;5;241m.\u001b[39mpack(expand\u001b[38;5;241m=\u001b[39m\u001b[38;5;28;01mTrue\u001b[39;00m, fill\u001b[38;5;241m=\u001b[39m\u001b[38;5;124m'\u001b[39m\u001b[38;5;124mboth\u001b[39m\u001b[38;5;124m'\u001b[39m)\n\u001b[1;32m    149\u001b[0m root\u001b[38;5;241m.\u001b[39mgeometry(\u001b[38;5;124m\"\u001b[39m\u001b[38;5;124m375x350\u001b[39m\u001b[38;5;124m\"\u001b[39m)\n",
      "\u001b[0;31mTypeError\u001b[0m: VocabularyController.__init__() missing 2 required positional arguments: 'root' and 'model'"
     ]
    }
   ],
   "source": [
    "import tkinter as tk\n",
    "from PIL import Image, ImageTk\n",
    "from tkinter import ttk, messagebox\n",
    "from app.vocabulary_builder.controller.vocabulary_controller import VocabularyController\n",
    "\n",
    "\n",
    "class VocabularyGame(tk.Frame):\n",
    "    def __init__(self, parent=None, **kwargs):\n",
    "        tk.Frame.__init__(self, parent, **kwargs)\n",
    "        self.controller = kwargs[\"controller\"]\n",
    "\n",
    "        # Widgets da tela de seleção\n",
    "        self.label_selection_title = tk.Label(self, text=\"Seleção do Tipo de Jogo\", font=(\"Arial\", 16))\n",
    "        self.centralizar_widget(self.label_selection_title, 0.1)\n",
    "\n",
    "        self.label_category = tk.Label(self, text=\"Escolha uma categoria:\", font=(\"Arial\", 14))\n",
    "        self.centralizar_widget(self.label_category, 0.2)\n",
    "\n",
    "        self.category_combobox = ttk.Combobox(self, state=\"readonly\")\n",
    "        self.centralizar_widget(self.category_combobox, 0.3)\n",
    "        self.category_combobox[\"values\"] = self.controller.vocabulary_model.list_categories()\n",
    "        self.category_combobox.bind(\"<<ComboboxSelected>>\", self.populate_subcategories)\n",
    "\n",
    "        self.label_subcategory = tk.Label(self, text=\"Escolha uma subcategoria:\", font=(\"Arial\", 14))\n",
    "        self.centralizar_widget(self.label_subcategory, 0.4)\n",
    "\n",
    "        self.subcategory_combobox = ttk.Combobox(self, state=\"readonly\")\n",
    "        self.centralizar_widget(self.subcategory_combobox, 0.5)\n",
    "        self.subcategory_combobox[\"state\"] = \"disabled\"\n",
    "        self.subcategory_combobox.bind(\"<<ComboboxSelected>>\", self.enable_start_button)\n",
    "\n",
    "        self.start_button = tk.Button(self, text=\"Iniciar Jogo\", command=self.start_game, font=(\"Arial\", 12), state=\"disabled\")\n",
    "        self.centralizar_widget(self.start_button, 0.7)\n",
    "\n",
    "        # Widgets da tela de jogo\n",
    "        self.label_game_info = tk.Label(self, text=\"\", font=(\"Arial\", 14))\n",
    "        self.centralizar_widget(self.label_game_info, 0.1)\n",
    "        self.label_image = tk.Label(self)\n",
    "        self.centralizar_widget(self.label_image, 0.25)\n",
    "        self.displayed_image_tk = None\n",
    "        self.word_label = tk.Label(self, text=\"\", font=(\"Arial\", 18, \"bold\"))\n",
    "        self.centralizar_widget(self.word_label, 0.4)\n",
    "        self.answer_entry = ttk.Entry(self, font=(\"Arial\", 14))\n",
    "        self.centralizar_widget(self.answer_entry, 0.5)\n",
    "        self.feedback_label = ttk.Label(self, text=\"\", font=(\"Arial\", 12))\n",
    "        self.centralizar_widget(self.feedback_label, 0.6)\n",
    "        self.botao_confirmar = tk.Button(self, text=\"Confirmar\", command=self.check_answer)\n",
    "        self.botao_confirmar.place(relx=0.65, rely=0.7, anchor=tk.CENTER)\n",
    "        self.botao_voltar_inicial = tk.Button(self, text=\"Voltar para Seleção\", command=self.show_selection_page)\n",
    "        self.botao_voltar_inicial.place(relx=0.35, rely=0.7, anchor=tk.CENTER)\n",
    "\n",
    "        self.category = None\n",
    "        self.subcategory = None\n",
    "        self.game_widgets_visible(False) # Inicialmente esconde os widgets do jogo\n",
    "\n",
    "    def centralizar_widget(self, widget, rely):\n",
    "        widget.place(relx=0.5, rely=rely, anchor=tk.CENTER)\n",
    "\n",
    "    def populate_subcategories(self, event):\n",
    "        category = self.category_combobox.get()\n",
    "        subcategories = self.controller.vocabulary_model.list_subcategories(category)\n",
    "        self.subcategory_combobox[\"values\"] = subcategories\n",
    "        self.subcategory_combobox[\"state\"] = \"readonly\" if subcategories else \"disabled\"\n",
    "        self.subcategory_combobox.set(\"\")\n",
    "        self.start_button[\"state\"] = \"disabled\"\n",
    "\n",
    "    def enable_start_button(self, event):\n",
    "        if self.subcategory_combobox.get():\n",
    "            self.start_button[\"state\"] = \"normal\"\n",
    "        else:\n",
    "            self.start_button[\"state\"] = \"disabled\"\n",
    "\n",
    "    def start_game(self):\n",
    "        selected_category = self.category_combobox.get()\n",
    "        selected_subcategory = self.subcategory_combobox.get()\n",
    "        if selected_category and selected_subcategory:\n",
    "            print(f\"Jogo iniciado com categoria: {selected_category}, subcategoria: {selected_subcategory}\")\n",
    "            self.category = selected_category\n",
    "            self.subcategory = selected_subcategory\n",
    "            self.load_game_content(selected_category, selected_subcategory)\n",
    "            self.selection_widgets_visible(False)\n",
    "            self.game_widgets_visible(True)\n",
    "            self.controller.vocabulary_controller.start_quiz(selected_category, selected_subcategory)\n",
    "        else:\n",
    "            messagebox.showinfo(\"Seleção Inválida\", \"Por favor, escolha uma categoria e subcategoria.\")\n",
    "\n",
    "    def load_game_content(self, category, subcategory):\n",
    "        self.label_game_info.config(text=f\"Vocabulário - Categoria: {category}, Subcategoria: {subcategory}\")\n",
    "        self.controller.vocabulary_controller.view = self\n",
    "        self.next_word()\n",
    "\n",
    "    def display_word(self, word):\n",
    "        self.word_label.config(text=word)\n",
    "        self.answer_entry.delete(0, tk.END)\n",
    "        self.feedback_label.config(text=\"\")\n",
    "\n",
    "    def display_image(self, path_image):\n",
    "        try:\n",
    "            imagem_pil = Image.open(path_image)\n",
    "            imagem_tk = ImageTk.PhotoImage(imagem_pil)\n",
    "            self.label_image.config(image=imagem_tk)\n",
    "            self.displayed_image_tk = imagem_tk\n",
    "        except FileNotFoundError:\n",
    "            print(f\"Erro: Arquivo de imagem não encontrado em {path_image}\")\n",
    "            self.label_image.config(text=\"Imagem não encontrada\")\n",
    "        except Exception as e:\n",
    "            print(f\"Erro ao carregar a imagem: {e}\")\n",
    "            self.label_image.config(text=f\"Erro ao carregar a imagem: {e}\")\n",
    "\n",
    "    def display_feedback(self, message, color):\n",
    "        self.feedback_label.config(text=message, foreground=color)\n",
    "\n",
    "    def check_answer(self):\n",
    "        user_answer = self.answer_entry.get()\n",
    "        self.controller.vocabulary_controller.check_answer(user_answer)\n",
    "\n",
    "    def next_word(self):\n",
    "        self.controller.vocabulary_controller.next_word()\n",
    "\n",
    "    def show_selection_page(self):\n",
    "        self.game_widgets_visible(False)\n",
    "        self.selection_widgets_visible(True)\n",
    "    \n",
    "    def set_widgets_state(self, widgets, visible=True):\n",
    "        state = tk.NORMAL if visible else tk.DISABLED\n",
    "        for widget in widgets:\n",
    "            widget.config(state=state)\n",
    "\n",
    "\n",
    "    def selection_widgets_visible(self, visible=True):\n",
    "        self.set_widgets_state([\n",
    "            self.label_selection_title,\n",
    "            self.label_category,\n",
    "            self.category_combobox,\n",
    "            self.label_subcategory,\n",
    "            self.subcategory_combobox,\n",
    "            self.start_button\n",
    "        ], visible=visible)\n",
    "\n",
    "    def game_widgets_visible(self, visible=True):\n",
    "        self.set_widgets_state([\n",
    "            self.label_game_info,\n",
    "            self.label_image,\n",
    "            self.word_label,\n",
    "            self.answer_entry,\n",
    "            self.feedback_label,\n",
    "            self.botao_confirmar,\n",
    "            self.botao_voltar_inicial,\n",
    "        ], visible=visible)\n",
    "\n",
    "# # Inicializa o jogo\n",
    "if __name__ == \"__main__\":\n",
    "    root = tk.Tk()\n",
    "    root.title(\"Hangman Game\")\n",
    "    game = VocabularyGame(root, controller=VocabularyController())\n",
    "    game.pack(expand=True, fill='both')\n",
    "    root.geometry(\"375x350\")\n",
    "    root.mainloop()\n"
   ]
  },
  {
   "cell_type": "code",
   "execution_count": null,
   "metadata": {},
   "outputs": [],
   "source": [
    "controller=VocabularyController(root)"
   ]
  },
  {
   "cell_type": "code",
   "execution_count": null,
   "metadata": {},
   "outputs": [],
   "source": []
  },
  {
   "cell_type": "code",
   "execution_count": null,
   "metadata": {},
   "outputs": [],
   "source": []
  },
  {
   "cell_type": "code",
   "execution_count": null,
   "metadata": {},
   "outputs": [
    {
     "name": "stdout",
     "output_type": "stream",
     "text": [
      "Convertido (linha única): C:\\pyprojects\\fast-english\\database\\vocabulary\\animals\\birds.csv -> C:\\pyprojects\\fast-english\\database\\vocabulary_json\\animals\\birds.json\n",
      "Convertido (linha única): C:\\pyprojects\\fast-english\\database\\vocabulary\\animals\\mammals.csv -> C:\\pyprojects\\fast-english\\database\\vocabulary_json\\animals\\mammals.json\n",
      "Convertido (linha única): C:\\pyprojects\\fast-english\\database\\vocabulary\\numbers\\numbers_0-100.csv -> C:\\pyprojects\\fast-english\\database\\vocabulary_json\\numbers\\numbers_0-100.json\n",
      "Convertido (linha única): C:\\pyprojects\\fast-english\\database\\vocabulary\\numbers\\ordinal_numbers_0-100.csv -> C:\\pyprojects\\fast-english\\database\\vocabulary_json\\numbers\\ordinal_numbers_0-100.json\n",
      "Convertido (linha única): C:\\pyprojects\\fast-english\\database\\vocabulary\\seasons_and_frequency\\frequency.csv -> C:\\pyprojects\\fast-english\\database\\vocabulary_json\\seasons_and_frequency\\frequency.json\n",
      "Convertido (linha única): C:\\pyprojects\\fast-english\\database\\vocabulary\\seasons_and_frequency\\seasons.csv -> C:\\pyprojects\\fast-english\\database\\vocabulary_json\\seasons_and_frequency\\seasons.json\n",
      "Convertido (linha única): C:\\pyprojects\\fast-english\\database\\vocabulary\\time_expressions\\dias_da_semana.csv -> C:\\pyprojects\\fast-english\\database\\vocabulary_json\\time_expressions\\dias_da_semana.json\n",
      "Convertido (linha única): C:\\pyprojects\\fast-english\\database\\vocabulary\\time_expressions\\meses_do_ano.csv -> C:\\pyprojects\\fast-english\\database\\vocabulary_json\\time_expressions\\meses_do_ano.json\n",
      "Convertido (linha única): C:\\pyprojects\\fast-english\\database\\vocabulary\\time_expressions\\o_calendario.csv -> C:\\pyprojects\\fast-english\\database\\vocabulary_json\\time_expressions\\o_calendario.json\n",
      "Processo de conversão de CSV para JSON (linha única) concluído.\n"
     ]
    }
   ],
   "source": [
    "import pandas as pd\n",
    "import json\n",
    "import os\n",
    "\n",
    "def csv_to_json_vocabulary_single_row(root_csv_folder, output_json_folder):\n",
    "    \"\"\"\n",
    "    Converte arquivos CSV de vocabulário (múltiplas colunas, uma única linha)\n",
    "    em arquivos JSON, mantendo a estrutura de pastas. As chaves do JSON\n",
    "    serão os nomes das colunas e os valores serão os valores da única linha.\n",
    "\n",
    "    Args:\n",
    "        root_csv_folder (str): Caminho para a pasta raiz contendo as categorias de CSVs.\n",
    "        output_json_folder (str): Caminho para a pasta raiz onde os JSONs serão salvos.\n",
    "    \"\"\"\n",
    "    if not os.path.exists(output_json_folder):\n",
    "        os.makedirs(output_json_folder)\n",
    "\n",
    "    for category_name in os.listdir(root_csv_folder):\n",
    "        category_path = os.path.join(root_csv_folder, category_name)\n",
    "        if os.path.isdir(category_path):\n",
    "            output_category_path = os.path.join(output_json_folder, category_name)\n",
    "            if not os.path.exists(output_category_path):\n",
    "                os.makedirs(output_category_path)\n",
    "\n",
    "            for csv_filename in os.listdir(category_path):\n",
    "                if csv_filename.endswith(\".csv\"):\n",
    "                    csv_filepath = os.path.join(category_path, csv_filename)\n",
    "                    json_filename = os.path.splitext(csv_filename)[0] + \".json\"\n",
    "                    json_filepath = os.path.join(output_category_path, json_filename)\n",
    "\n",
    "                    try:\n",
    "                        df = pd.read_csv(csv_filepath)\n",
    "                        if len(df) == 1:\n",
    "                            data = df.iloc[0].to_dict()\n",
    "                            with open(json_filepath, 'w', encoding='utf-8') as f:\n",
    "                                json.dump(data, f, indent=4, ensure_ascii=False)\n",
    "                            print(f\"Convertido (linha única): {csv_filepath} -> {json_filepath}\")\n",
    "                        else:\n",
    "                            print(f\"Aviso: {csv_filepath} não possui exatamente uma linha. Ignorando.\")\n",
    "                    except Exception as e:\n",
    "                        print(f\"Erro ao processar {csv_filepath}: {e}\")\n",
    "\n",
    "if __name__ == \"__main__\":\n",
    "    root_csv_folder = r\"C:\\pyprojects\\fast-english\\database\\vocabulary\"\n",
    "    output_json_folder = r\"C:\\pyprojects\\fast-english\\database\\vocabulary_json\"\n",
    "    csv_to_json_vocabulary_single_row(root_csv_folder, output_json_folder)\n",
    "    print(\"Processo de conversão de CSV para JSON (linha única) concluído.\")"
   ]
  },
  {
   "cell_type": "code",
   "execution_count": null,
   "metadata": {},
   "outputs": [],
   "source": []
  },
  {
   "cell_type": "code",
   "execution_count": null,
   "metadata": {},
   "outputs": [],
   "source": []
  },
  {
   "cell_type": "code",
   "execution_count": null,
   "metadata": {},
   "outputs": [
    {
     "data": {
      "text/plain": [
       "'she ??? lunch at 2pm every day'"
      ]
     },
     "execution_count": 3,
     "metadata": {},
     "output_type": "execute_result"
    }
   ],
   "source": [
    "\"i {word} lunch at noon every day\".format(word='???')\n",
    "\"she {word} lunch at 2pm every day\".format(word='???')\n"
   ]
  },
  {
   "cell_type": "code",
   "execution_count": null,
   "metadata": {},
   "outputs": [],
   "source": []
  },
  {
   "cell_type": "code",
   "execution_count": null,
   "metadata": {},
   "outputs": [
    {
     "name": "stdout",
     "output_type": "stream",
     "text": [
      "Categorias disponíveis: ['numbers', 'seasons_and_frequency', 'time_expressions']\n",
      "\n",
      "Vocabulário de 'days':\n"
     ]
    }
   ],
   "source": [
    "import os\n",
    "import csv\n",
    "import pandas as pd\n",
    "\n",
    "BASE_PATH = os.path.join(\"database\", \"vocabulary\")\n",
    "\n",
    "def carregar_csv(caminho_arquivo):\n",
    "    dados = []\n",
    "    with open(caminho_arquivo, newline='', encoding='utf-8') as csvfile:\n",
    "        leitor = csv.DictReader(csvfile)\n",
    "        for linha in leitor:\n",
    "            dados.append(linha)\n",
    "    return dados\n",
    "\n",
    "def load_dataframe(caminho_arquivo:str):\n",
    "    df = pd.read_csv(caminho_arquivo)\n",
    "    return df.to_dict(\"records\")[0]\n",
    "\n",
    "def listar_funcionalidades(base_path=BASE_PATH):\n",
    "    return [nome for nome in os.listdir(base_path) if os.path.isdir(os.path.join(base_path, nome))]\n",
    "\n",
    "def buscar_vocabulos(categoria):\n",
    "    caminho = os.path.join(BASE_PATH, categoria)\n",
    "    arquivos = os.listdir(caminho)\n",
    "    vocabulario = []\n",
    "\n",
    "    for arquivo in arquivos:\n",
    "        if arquivo.endswith(\".csv\"):\n",
    "            vocabulario.append(arquivo)\n",
    "\n",
    "    return vocabulario\n",
    "\n",
    "def exibir_vocabulario(categoria):\n",
    "    vocab = buscar_vocabulos(categoria)\n",
    "    return [item.replace(\".csv\", \"\") for item in vocab]\n",
    "    #     # print(f\"{item['pt']} ➜ {item['en']}\")\n",
    "        # print(f\"{idx}- {item}\")\n",
    "\n",
    "\n",
    "def carregar_vocabulario(categoria, arquivo):\n",
    "    caminho = os.path.join(BASE_PATH, categoria)\n",
    "    # arquivos = os.listdir(caminho)\n",
    "    caminho_csv = os.path.join(caminho, arquivo)\n",
    "    # return carregar_csv(f\"{caminho_csv}.csv\")\n",
    "    return load_dataframe(f\"{caminho_csv}.csv\")\n",
    "\n",
    "# EXEMPLO DE USO\n",
    "categorias = listar_funcionalidades()\n",
    "print(\"Categorias disponíveis:\", categorias)\n",
    "\n",
    "print(\"\\nVocabulário de 'days':\")\n",
    "exibir_vocabulario('seasons_and_frequency')\n",
    "\n",
    "leitor = carregar_vocabulario(categoria=\"seasons_and_frequency\", arquivo=\"frequency\")\n",
    "\n"
   ]
  },
  {
   "cell_type": "code",
   "execution_count": null,
   "metadata": {},
   "outputs": [
    {
     "name": "stdout",
     "output_type": "stream",
     "text": [
      "❌: maça, ✅: maçã\n",
      "❌: pera, ✅: morango\n",
      "❌: pinha, ✅: abacaxi\n"
     ]
    }
   ],
   "source": [
    "\n",
    "\n",
    "if __name__ == \"__main__\":\n",
    "    # Criando uma estrutura de dados de exemplo (simulando seus arquivos JSON)\n",
    "    if not os.path.exists(\"data/animals\"):\n",
    "        os.makedirs(\"data/animals\")\n",
    "    if not os.path.exists(\"data/fruits\"):\n",
    "        os.makedirs(\"data/fruits\")\n",
    "\n",
    "    with open(\"data/animals/mammals.json\", 'w', encoding='utf-8') as f:\n",
    "        json.dump({\"dog\": \"cachorro\", \"cat\": \"gato\", \"elephant\": \"elefante\"}, f, ensure_ascii=False, indent=4)\n",
    "    with open(\"data/animals/birds.json\", 'w', encoding='utf-8') as f:\n",
    "        json.dump({\"eagle\": \"águia\", \"parrot\": \"papagaio\", \"owl\": \"coruja\"}, f, ensure_ascii=False, indent=4)\n",
    "    with open(\"data/fruits/tropical.json\", 'w', encoding='utf-8') as f:\n",
    "        json.dump({\"banana\": \"banana\", \"mango\": \"manga\", \"pineapple\": \"abacaxi\"}, f, ensure_ascii=False, indent=4)\n",
    "    with open(\"data/fruits/temperate.json\", 'w', encoding='utf-8') as f:\n",
    "        json.dump({\"apple\": \"maçã\", \"pear\": \"pera\", \"strawberry\": \"morango\"}, f, ensure_ascii=False, indent=4)\n",
    "\n",
    "    root = tk.Tk()\n",
    "    controller = VocabularyController(root)\n",
    "    root.mainloop()"
   ]
  },
  {
   "cell_type": "code",
   "execution_count": null,
   "metadata": {},
   "outputs": [],
   "source": []
  },
  {
   "cell_type": "code",
   "execution_count": null,
   "metadata": {},
   "outputs": [],
   "source": []
  },
  {
   "cell_type": "code",
   "execution_count": null,
   "metadata": {},
   "outputs": [],
   "source": []
  },
  {
   "cell_type": "code",
   "execution_count": null,
   "metadata": {},
   "outputs": [],
   "source": []
  },
  {
   "cell_type": "code",
   "execution_count": null,
   "metadata": {},
   "outputs": [],
   "source": []
  },
  {
   "cell_type": "code",
   "execution_count": null,
   "metadata": {},
   "outputs": [],
   "source": []
  },
  {
   "cell_type": "code",
   "execution_count": null,
   "metadata": {},
   "outputs": [],
   "source": []
  }
 ],
 "metadata": {
  "kernelspec": {
   "display_name": ".venv",
   "language": "python",
   "name": "python3"
  },
  "language_info": {
   "codemirror_mode": {
    "name": "ipython",
    "version": 3
   },
   "file_extension": ".py",
   "mimetype": "text/x-python",
   "name": "python",
   "nbconvert_exporter": "python",
   "pygments_lexer": "ipython3",
   "version": "3.12.10"
  }
 },
 "nbformat": 4,
 "nbformat_minor": 2
}
