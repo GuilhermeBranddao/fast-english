{
 "cells": [
  {
   "cell_type": "code",
   "execution_count": 1,
   "metadata": {},
   "outputs": [
    {
     "name": "stdout",
     "output_type": "stream",
     "text": [
      "Imagens salvas em: raw_images\n"
     ]
    }
   ],
   "source": [
    "import fitz  # PyMuPDF\n",
    "import os\n",
    "\n",
    "# Caminho para o seu PDF\n",
    "pdf_path = r\"C:\\Users\\Concremat\\Downloads\\English for Everyone Vocabulary Builder_250104_115209.pdf\"\n",
    "output_folder = \"data/raw_images\"\n",
    "os.makedirs(output_folder, exist_ok=True)\n",
    "\n",
    "# Abre o PDF\n",
    "doc = fitz.open(pdf_path)\n",
    "\n",
    "for page_number in range(len(doc)):\n",
    "    page = doc[page_number]\n",
    "    images = page.get_images(full=True)\n",
    "\n",
    "    for i, img in enumerate(images):\n",
    "        xref = img[0]\n",
    "        base_image = doc.extract_image(xref)\n",
    "        image_bytes = base_image[\"image\"]\n",
    "        image_ext = base_image[\"ext\"]\n",
    "        image_filename = f\"page{page_number+1}_img{i+1}.{image_ext}\"\n",
    "\n",
    "        with open(os.path.join(output_folder, image_filename), \"wb\") as f:\n",
    "            f.write(image_bytes)\n",
    "\n",
    "print(f\"Imagens salvas em: {output_folder}\")\n"
   ]
  },
  {
   "cell_type": "code",
   "execution_count": null,
   "metadata": {},
   "outputs": [],
   "source": []
  },
  {
   "cell_type": "code",
   "execution_count": null,
   "metadata": {},
   "outputs": [],
   "source": []
  },
  {
   "cell_type": "code",
   "execution_count": null,
   "metadata": {},
   "outputs": [],
   "source": []
  }
 ],
 "metadata": {
  "kernelspec": {
   "display_name": ".venv",
   "language": "python",
   "name": "python3"
  },
  "language_info": {
   "codemirror_mode": {
    "name": "ipython",
    "version": 3
   },
   "file_extension": ".py",
   "mimetype": "text/x-python",
   "name": "python",
   "nbconvert_exporter": "python",
   "pygments_lexer": "ipython3",
   "version": "3.12.10"
  }
 },
 "nbformat": 4,
 "nbformat_minor": 2
}
