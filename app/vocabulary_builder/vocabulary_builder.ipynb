{
 "cells": [
  {
   "cell_type": "markdown",
   "metadata": {},
   "source": [
    "## Anki\n",
    "\n",
    "\n",
    "Parei na parte 5: Lost and Found"
   ]
  },
  {
   "cell_type": "code",
   "execution_count": 18,
   "metadata": {},
   "outputs": [],
   "source": [
    "import os \n",
    "os.chdir(\"..\")"
   ]
  },
  {
   "cell_type": "code",
   "execution_count": 20,
   "metadata": {},
   "outputs": [
    {
     "name": "stdout",
     "output_type": "stream",
     "text": [
      " O volume na unidade C � OS\n",
      " O N�mero de S�rie do Volume � A2FB-FA56\n",
      "\n",
      " Pasta de c:\\pyprojects\\fast-english\n",
      "\n",
      "23/04/2025  17:29    <DIR>          .\n",
      "23/04/2025  08:12    <DIR>          ..\n",
      "23/04/2025  08:12    <DIR>          .github\n",
      "23/04/2025  08:17             3.675 .gitignore\n",
      "23/04/2025  08:36    <DIR>          .venv\n",
      "23/04/2025  08:12             8.923 anki_cards.txt\n",
      "23/04/2025  17:29    <DIR>          app\n",
      "23/04/2025  17:29    <DIR>          database\n",
      "23/04/2025  08:12    <DIR>          docs\n",
      "23/04/2025  17:13             2.172 extarct_words.ipynb\n",
      "23/04/2025  08:12            15.641 feets_tkinter.ipynb\n",
      "23/04/2025  08:12                20 mkdocs.yml\n",
      "23/04/2025  08:12            14.145 new_feets.ipynb\n",
      "23/04/2025  08:12            42.816 output.mp3\n",
      "23/04/2025  08:12           390.810 poetry.lock\n",
      "23/04/2025  08:12             1.148 pyproject.toml\n",
      "23/04/2025  13:07               149 README.md\n",
      "23/04/2025  13:12               157 requirements.txt\n",
      "23/04/2025  08:12            12.288 tasks.db\n",
      "23/04/2025  08:12    <DIR>          tests\n",
      "23/04/2025  08:12            33.152 words_oxford_pdf.txt\n",
      "              13 arquivo(s)        525.096 bytes\n",
      "               8 pasta(s)   23.660.298.240 bytes dispon�veis\n"
     ]
    }
   ],
   "source": [
    "!dir"
   ]
  },
  {
   "cell_type": "code",
   "execution_count": null,
   "metadata": {},
   "outputs": [],
   "source": [
    "texto = \"\"\"\n",
    "- for the last three Spring Breaks in a row.\n",
    "= pelas últimas três Férias de Páscoa/Semana Santa seguidas.\n",
    "\n",
    "- They loved to get away from their busy lives, slow down, and enjoy nature and each other.\n",
    "= Eles adoravam fugir de suas vidas ocupadas, se acalmar (\"diminuir a\n",
    "velocidade\"), e curtir a natureza e o tempo juntos (um ao outro).\n",
    "\n",
    "- William was their older son at nine years old.\n",
    "= William era o filho mais velho deles com nove anos de idade.\n",
    "\n",
    "- He took after his mother, with deep brown hair and eyes and olive-toned skin.\n",
    "= Ele puxava a mãe, com olhos e cabelos castanhos escuros e pele morena.\n",
    "\n",
    "- The walls were a deep red.\n",
    "= As paredes eram vermelhas escuras.\n",
    "\n",
    "- He took every responsibility given to him seriously, just like his mother, and he enjoyed giving advice to his younger brother.\n",
    "= Ele assumiu todas as responsabilidades dadas a ele seriamente, assim como sua mãe, e ele gostava de dar conselhos ao seu irmão mais novo.\n",
    "\n",
    "- Zack, a five-year-old, was more like his father with strawberry-blonde hair and a pale complexion.\n",
    "= Zack, uma criança de cinco anos de idade, era mais como seu pai, com cabelos loiros-avermelhados e uma pele clara.\n",
    "\n",
    "- All of the children had healthy complexions.\n",
    "= Todas as crianças tinham a aparência saudável.\n",
    "\n",
    "- He was also more like his father in his love for mischief.\n",
    "= Ele era também mais como seu pai em seu amor por travessuras.\n",
    "\n",
    "- Those children are always getting into mischief.\n",
    "= Aqueles crianças estão sempre se envolvendo com travessuras.\n",
    "\n",
    "- His father enjoyed hiding around corners and popping out at the next passer-by, saying, \"Boo!\" and startling them.\n",
    "= Seu pai gostava de se esconder nos cantos e aparecer de surpresa para o próximo transeunte, dizendo \"Boo!\" e surpreendendo-os.\n",
    "\n",
    "- The window opened and a dog's head popped out.\n",
    "= A janela abriu e a cabeça de um cachorro apareceu de repente.\n",
    "\n",
    "- I'm sorry that I startled you.\n",
    "= Desculpe-me por ter assustado/surpreendo você.\n",
    "\n",
    "- Zack also loved to hide and surprise people, but he had other added mischievous behaviors, as well.\n",
    "= Zack também adorava se esconder e surpreender as pessoas, mas ele tinha\n",
    "também outros comportamentos maliciosos.\n",
    "\n",
    "- The Jensons camped in an old RV that Mr. Jenson had to repair during just about every trip.\n",
    "= Os Jensons acamparam em um trailer velho que o Sr. Jenson tinha que consertar durante quase/praticamente todas as viagens.\n",
    "\n",
    "- Last season, a gasket on the toilet had given out, causing a leak the Mr. Jenson spent hours fixing.\n",
    "= Na última temporada, uma vedação/gaxeta no banheiro tinha cedido/estragado, causando um vazamento que o Sr. Jenson passou horas consertando.\n",
    "\n",
    "- He'd had to travel to the nearest RV specialty store to replace the part.\n",
    "= Ele \"tinha tido que viajar\" para a loja especializada em trailers mais próxima para substituir a peça.\n",
    "\n",
    "- This year, there seemed to be some problem with the RV's electrical system.\n",
    "= Este ano, parecia haver algum problema com o sistema elétrico do trailer.\n",
    "\n",
    "- The Jensons had tried everything they could think of, and they couldn’t get the air conditioning to run.\n",
    "= Os Jensons tinham tentado tudo que eles conseguiam pensar (em), e eles não conseguiram fazer o ar condicionado funcionar.\n",
    "\n",
    "- Mrs. Jenson had decided to walk the campsite, looking for RV campers that seemed to have a good deal of experience.\n",
    "= A Sra. Jenson tinha decidido caminhar pelo acampamento, procurando por pessoas acampando em trailers que parecessem ter uma boa dose de experiência.\n",
    "\n",
    "- Maybe someone had had this problem before and knew how to fix it.\n",
    "= Talvez alguém tenha tido esse problema antes e soubesse como corrigi-lo.\n",
    "\n",
    "- Mr. Jenson stayed at the RV, trying different fuses, checking plugs and connections,\n",
    "= O Sr. Jenson ficou no trailer, tentando diferentes fusíveis, verificando plugues e conexões,\n",
    "\n",
    "- …and generally tinkering with anything he thought might relate to the problem.\n",
    "= …e de modo geral fazendo pequenos ajustes com qualquer coisa que ele considerasse que pudesse estar relacionado com o problema.\n",
    "\n",
    "- He looked up to check on the boys every time he thought about it.\n",
    "= Ele olhava para cima para verificar os meninos toda vez que ele pensava sobre isso.\n",
    "\n",
    "- William and Zack were playing Adventure Seekers,\n",
    "= William e Zack estavam bricando de \"Adventure Seekers\",\n",
    "\n",
    "- which was basically hide and seek while wearing safari hats and supply backpacks.\n",
    "= que era basicamente esconde-esconde enquanto usando chapéus de safári e mochilas de suprimentos.\n",
    "\n",
    "- Their parents' rule was that they could not leave their particular campsite without permission.\n",
    "= A regra de seus pais era que eles não podiam deixar seu acampamento em particular sem  permissão.\n",
    "\n",
    "- That gave them the thirty yards between their camper and the next.\n",
    "= Isso lhes deu as trinta jardas entre o trailer deles e o seguinte.\n",
    "\n",
    "- There weren't many hiding places in this small space.\n",
    "= Não havia muitos esconderijos neste pequeno espaço.\n",
    "\n",
    "- On Zack's turn to hide, his brother covered his eyes and counted to twenty,\n",
    "= Na vez de Zack se esconder, seu irmão cobriu os olhos e contou até vinte,\n",
    "\n",
    "- Please wait your turn.\n",
    "= Por favor, espere a sua vez.\n",
    "\n",
    "- When it's your turn, take another card.\n",
    "= Quando for a sua vez, pegue outra carta.\n",
    "\n",
    "- while Zack tiptoed out of the campsite and into the woods across the street.\n",
    "= enquanto Zack saiu na ponta dos pés do acampamento e entrou na floresta do outro lado da rua.\n",
    "\n",
    "- He tiptoed quietly around the house to avoid waking the children.\n",
    "= Ele andou na ponta dos pés silenciosamente pela casa para evitar acordar as crianças.\n",
    "\n",
    "- He watched from behind some bushes as his big brother searched everywhere in the campsite.\n",
    "= Ele observou por trás de alguns arbustos enquanto seu irmão mais velho procurava em todos os lugares do acampamento.\n",
    "\n",
    "- Zack couldn't help but giggle that he'd outsmarted William,\n",
    "= Zack não teve como não rir que ele tinha sido mais esperto que William,\n",
    "\n",
    "- The girls giggled at the joke.\n",
    "= As meninas riram da piada.\n",
    "\n",
    "- but as soon as he heard that laugh, William's head whipped around, following the giggle to Zack's spot in the bushes.\n",
    "= mas logo que ele ouviu aquela risada, a cabeça de William girou rapidamente, seguindo o riso até o lugar de Zack nos arbustos.\n",
    "\n",
    "- The sharp turn whipped me around, but I wasn't hurt.\n",
    "= A curva fechada me jogou de um lado para o outro, mas eu não me machuquei.\n",
    "\n",
    "- William started to run toward his little brother, yelling that it was breaking the rules to be out of the campsite.\n",
    "= William começou a correr em direção ao seu irmão mais novo, gritando que era quebrar as regras estar fora do acampamento.\n",
    "\n",
    "- The bus is heading toward town.\n",
    "= O ônibus está indo em direção à cidade.\n",
    "\n",
    "- This is a first step towards political union.\n",
    "= Esse é um primeiro passo visando/em direção a únião política.\n",
    "\n",
    "- William looked around for his dad, but didn’t see him.\n",
    "= William olhou pelo local em busca do pai, mas não o viu.\n",
    "\n",
    "- He must've been inside the RV working on the problem.\n",
    "= Ele devia estar dentro do trailer trabalhando no problema.\n",
    "\n",
    "- So, William ran to get Zack and bring him back to the campsite himself.\n",
    "= Então, William correu para pegar o Zack e ele mesmo trazê-lo de volta ao acampamento.\n",
    "\n",
    "- Zack saw his brother running toward him, but he laughed even harder and ran off in the opposite direction.\n",
    "= Zack viu o irmão correndo na direção dele, mas ele riu ainda mais e saiuccorrendo/foi embora na direção oposta.\n",
    "\n",
    "- He heard William calling, \"No! Stop! We can't leave the campsite.\n",
    "= Ele ouviu William chamando: \"Não! Pare! Não podemos deixar o acampamento.\n",
    "\n",
    "- We're going to get in trouble!\", Zack wouldn't stop, though.\n",
    "= Nós vamos arrumar problemas!\", Zack não parava, no entanto.\n",
    "\n",
    "- I would do anything to protect my children.\n",
    "= Eu faria qualquer coisa para proteger meus filhos.\n",
    "\n",
    "- My car wouldn't start this morning.\n",
    "= Meu carro não ligava hoje de manhã.\n",
    "\n",
    "- He wouldn't give up and lose the game that easily.\n",
    "= Ele não desistiria e perderia o jogo tão facilmente.\n",
    "\n",
    "- William finally caught up to Zack when his little brother tripped over a tree root.\n",
    "= William finalmente alcançou Zack quando seu irmãozinho tropeçou em uma raiz de árvore.\n",
    "\n",
    "- Go on ahead. I'll catch up with you.\n",
    "= Vai na frente. Eu vou te alcançar.\n",
    "\n",
    "- They went so fast we couldn't catch up.\n",
    "= Eles foram tão rápido que nós não conseguimos alcançá-los.\n",
    "\n",
    "- Angry that his little brother was about to get him in huge trouble, he yanked Zack up by the arm.\n",
    "= Irritado por seu irmão mais novo estar prestes a arrumar grandes problemas para ele, ele puxou Zack pelo braço.\n",
    "\n",
    "- She yanked the rope.\n",
    "= Ela deu um puxão na corda.\n",
    "\n",
    "- I yanked the door open.\n",
    "= Eu puxei a porta (abrindo-a).\n",
    "\n",
    "- \"What are you thinking, you little idiot?\"\n",
    "= \"O que você está pensando, seu pequeno idiota?\"\n",
    "\n",
    "- Zack had a skinned knee from the fall, so his brother's yelling made him cry\n",
    "= with pitiful little sobs.\n",
    "\n",
    "- Zack tinha um joelho esfolado por causa da queda, por isso os gritos de seu\n",
    "= irmão o fizeram chorar com pequenos e lamentáveis soluços.\n",
    "\n",
    "- William sighed and hugged Zack. \"I can't stay mad at you when you cry. No fair.\"\n",
    "= William suspirou e abraçou Zack. \"Eu não consigo continuar bravo com você quando você chora. Não é justo.\"\n",
    "\n",
    "\"\"\""
   ]
  },
  {
   "cell_type": "code",
   "execution_count": null,
   "metadata": {},
   "outputs": [],
   "source": [
    "cards = []\n",
    "for line in texto.split(\"\\n\"):\n",
    "    if line.startswith(\"- \"):  # Pergunta\n",
    "        question = line[2:].strip()\n",
    "    elif line.startswith(\"= \"):  # Resposta\n",
    "        answer = line[2:].strip()\n",
    "        cards.append((question, answer))  # Adicionar ao baralho\n",
    "\n",
    "# Criar arquivo formatado para o Anki\n",
    "with open(\"anki_cards.txt\", \"w\", encoding=\"utf-8\") as file:\n",
    "    for question, answer in cards:\n",
    "        file.write(f\"{question}\\t{answer}\\n\")\n",
    "\n"
   ]
  },
  {
   "cell_type": "code",
   "execution_count": null,
   "metadata": {},
   "outputs": [],
   "source": []
  },
  {
   "cell_type": "code",
   "execution_count": null,
   "metadata": {},
   "outputs": [],
   "source": []
  },
  {
   "cell_type": "markdown",
   "metadata": {},
   "source": [
    "-----"
   ]
  },
  {
   "cell_type": "markdown",
   "metadata": {},
   "source": []
  },
  {
   "cell_type": "code",
   "execution_count": null,
   "metadata": {},
   "outputs": [],
   "source": []
  },
  {
   "cell_type": "code",
   "execution_count": 102,
   "metadata": {},
   "outputs": [
    {
     "data": {
      "text/plain": [
       "'i ??? lunch at noon every day'"
      ]
     },
     "execution_count": 102,
     "metadata": {},
     "output_type": "execute_result"
    }
   ],
   "source": [
    "\"i {word} lunch at noon every day\".format(word='???')\n",
    "\"she {word} lunch at 2pm every day\".format(word='???')\n"
   ]
  },
  {
   "cell_type": "code",
   "execution_count": null,
   "metadata": {},
   "outputs": [],
   "source": [
    "daily_routines = {\n",
    "    \"acordar\": \"wake up\",\n",
    "    \"levantar-se\": \"get up\",\n",
    "    \"escovar os dentes\": \"brush teeth\",\n",
    "    \"tomar banho\": \"take a shower\",\n",
    "    \"vestir-se\": \"get dressed\",\n",
    "    \"tomar café da manhã\": \"have breakfast\",\n",
    "    \"ir para o trabalho\": \"go to work\",\n",
    "    \"trabalhar\": \"work\",\n",
    "    \"estudar\": \"study\",\n",
    "    \"almoçar\": \"have lunch\",\n",
    "    \"fazer uma pausa\": \"take a break\",\n",
    "    \"exercitar-se\": \"exercise\",\n",
    "    \"voltar para casa\": \"go home\",\n",
    "    \"jantar\": \"have dinner\",\n",
    "    \"assistir TV\": \"watch TV\",\n",
    "    \"ler um livro\": \"read a book\",\n",
    "    \"relaxar\": \"relax\",\n",
    "    \"ir dormir\": \"go to bed\",\n",
    "    \"dormir\": \"sleep\"\n",
    "\n",
    "    \"alarm goes off\"\n",
    "    \n",
    "}"
   ]
  },
  {
   "cell_type": "code",
   "execution_count": 57,
   "metadata": {},
   "outputs": [
    {
     "name": "stdout",
     "output_type": "stream",
     "text": [
      "Categorias disponíveis: ['seasons_and_frequency', 'time_expressions', 'numbers']\n",
      "\n",
      "Vocabulário de 'days':\n"
     ]
    }
   ],
   "source": [
    "import os\n",
    "import csv\n",
    "import pandas as pd\n",
    "\n",
    "BASE_PATH = os.path.join(\"database\", \"vocabulary\")\n",
    "\n",
    "def carregar_csv(caminho_arquivo):\n",
    "    dados = []\n",
    "    with open(caminho_arquivo, newline='', encoding='utf-8') as csvfile:\n",
    "        leitor = csv.DictReader(csvfile)\n",
    "        for linha in leitor:\n",
    "            dados.append(linha)\n",
    "    return dados\n",
    "\n",
    "def load_dataframe(caminho_arquivo:str):\n",
    "    df = pd.read_csv(caminho_arquivo)\n",
    "    return df.to_dict(\"records\")[0]\n",
    "\n",
    "def listar_funcionalidades(base_path=BASE_PATH):\n",
    "    return [nome for nome in os.listdir(base_path) if os.path.isdir(os.path.join(base_path, nome))]\n",
    "\n",
    "def buscar_vocabulos(categoria):\n",
    "    caminho = os.path.join(BASE_PATH, categoria)\n",
    "    arquivos = os.listdir(caminho)\n",
    "    vocabulario = []\n",
    "\n",
    "    for arquivo in arquivos:\n",
    "        if arquivo.endswith(\".csv\"):\n",
    "            vocabulario.append(arquivo)\n",
    "\n",
    "    return vocabulario\n",
    "\n",
    "def exibir_vocabulario(categoria):\n",
    "    vocab = buscar_vocabulos(categoria)\n",
    "    return [item.replace(\".csv\", \"\") for item in vocab]\n",
    "    #     # print(f\"{item['pt']} ➜ {item['en']}\")\n",
    "        # print(f\"{idx}- {item}\")\n",
    "\n",
    "\n",
    "def carregar_vocabulario(categoria, arquivo):\n",
    "    caminho = os.path.join(BASE_PATH, categoria)\n",
    "    # arquivos = os.listdir(caminho)\n",
    "    caminho_csv = os.path.join(caminho, arquivo)\n",
    "    # return carregar_csv(f\"{caminho_csv}.csv\")\n",
    "    return load_dataframe(f\"{caminho_csv}.csv\")\n",
    "\n",
    "# EXEMPLO DE USO\n",
    "categorias = listar_funcionalidades()\n",
    "print(\"Categorias disponíveis:\", categorias)\n",
    "\n",
    "print(\"\\nVocabulário de 'days':\")\n",
    "exibir_vocabulario('seasons_and_frequency')\n",
    "\n",
    "leitor = carregar_vocabulario(categoria=\"seasons_and_frequency\", arquivo=\"frequency\")\n",
    "\n"
   ]
  },
  {
   "cell_type": "code",
   "execution_count": 58,
   "metadata": {},
   "outputs": [
    {
     "data": {
      "text/plain": [
       "{'sempre': 'always',\n",
       " 'frequentemente': 'often',\n",
       " 'às vezes': 'sometimes',\n",
       " 'raramente': 'rarely',\n",
       " 'nunca': 'never'}"
      ]
     },
     "execution_count": 58,
     "metadata": {},
     "output_type": "execute_result"
    }
   ],
   "source": [
    "leitor"
   ]
  },
  {
   "cell_type": "code",
   "execution_count": 53,
   "metadata": {},
   "outputs": [
    {
     "ename": "ValueError",
     "evalue": "I/O operation on closed file.",
     "output_type": "error",
     "traceback": [
      "\u001b[0;31m---------------------------------------------------------------------------\u001b[0m",
      "\u001b[0;31mValueError\u001b[0m                                Traceback (most recent call last)",
      "Cell \u001b[0;32mIn[53], line 1\u001b[0m\n\u001b[0;32m----> 1\u001b[0m \u001b[43m[\u001b[49m\u001b[43mi\u001b[49m\u001b[43m \u001b[49m\u001b[38;5;28;43;01mfor\u001b[39;49;00m\u001b[43m \u001b[49m\u001b[43mi\u001b[49m\u001b[43m \u001b[49m\u001b[38;5;129;43;01min\u001b[39;49;00m\u001b[43m \u001b[49m\u001b[43mleitor\u001b[49m\u001b[43m]\u001b[49m\n",
      "File \u001b[0;32m/usr/lib/python3.12/csv.py:115\u001b[0m, in \u001b[0;36mDictReader.__next__\u001b[0;34m(self)\u001b[0m\n\u001b[1;32m    112\u001b[0m \u001b[38;5;28;01mdef\u001b[39;00m \u001b[38;5;21m__next__\u001b[39m(\u001b[38;5;28mself\u001b[39m):\n\u001b[1;32m    113\u001b[0m     \u001b[38;5;28;01mif\u001b[39;00m \u001b[38;5;28mself\u001b[39m\u001b[38;5;241m.\u001b[39mline_num \u001b[38;5;241m==\u001b[39m \u001b[38;5;241m0\u001b[39m:\n\u001b[1;32m    114\u001b[0m         \u001b[38;5;66;03m# Used only for its side effect.\u001b[39;00m\n\u001b[0;32m--> 115\u001b[0m         \u001b[38;5;28;43mself\u001b[39;49m\u001b[38;5;241;43m.\u001b[39;49m\u001b[43mfieldnames\u001b[49m\n\u001b[1;32m    116\u001b[0m     row \u001b[38;5;241m=\u001b[39m \u001b[38;5;28mnext\u001b[39m(\u001b[38;5;28mself\u001b[39m\u001b[38;5;241m.\u001b[39mreader)\n\u001b[1;32m    117\u001b[0m     \u001b[38;5;28mself\u001b[39m\u001b[38;5;241m.\u001b[39mline_num \u001b[38;5;241m=\u001b[39m \u001b[38;5;28mself\u001b[39m\u001b[38;5;241m.\u001b[39mreader\u001b[38;5;241m.\u001b[39mline_num\n",
      "File \u001b[0;32m/usr/lib/python3.12/csv.py:102\u001b[0m, in \u001b[0;36mDictReader.fieldnames\u001b[0;34m(self)\u001b[0m\n\u001b[1;32m    100\u001b[0m \u001b[38;5;28;01mif\u001b[39;00m \u001b[38;5;28mself\u001b[39m\u001b[38;5;241m.\u001b[39m_fieldnames \u001b[38;5;129;01mis\u001b[39;00m \u001b[38;5;28;01mNone\u001b[39;00m:\n\u001b[1;32m    101\u001b[0m     \u001b[38;5;28;01mtry\u001b[39;00m:\n\u001b[0;32m--> 102\u001b[0m         \u001b[38;5;28mself\u001b[39m\u001b[38;5;241m.\u001b[39m_fieldnames \u001b[38;5;241m=\u001b[39m \u001b[38;5;28;43mnext\u001b[39;49m\u001b[43m(\u001b[49m\u001b[38;5;28;43mself\u001b[39;49m\u001b[38;5;241;43m.\u001b[39;49m\u001b[43mreader\u001b[49m\u001b[43m)\u001b[49m\n\u001b[1;32m    103\u001b[0m     \u001b[38;5;28;01mexcept\u001b[39;00m \u001b[38;5;167;01mStopIteration\u001b[39;00m:\n\u001b[1;32m    104\u001b[0m         \u001b[38;5;28;01mpass\u001b[39;00m\n",
      "\u001b[0;31mValueError\u001b[0m: I/O operation on closed file."
     ]
    }
   ],
   "source": [
    "[i for i in leitor]"
   ]
  },
  {
   "cell_type": "code",
   "execution_count": 30,
   "metadata": {},
   "outputs": [
    {
     "data": {
      "text/plain": [
       "['frequency', 'seasons']"
      ]
     },
     "execution_count": 30,
     "metadata": {},
     "output_type": "execute_result"
    }
   ],
   "source": [
    "exibir_vocabulario('seasons_and_frequency')"
   ]
  },
  {
   "cell_type": "code",
   "execution_count": 108,
   "metadata": {},
   "outputs": [],
   "source": [
    "import tkinter as tk\n",
    "from tkinter import ttk, messagebox\n",
    "import random\n",
    "import inflect\n",
    "\n",
    "engine = inflect.engine()\n",
    "\n",
    "# Lógica para gerenciar o quiz\n",
    "class VocabularyQuiz:\n",
    "    def __init__(self, root):\n",
    "        self.root = root\n",
    "        self.root.title(\"Vocabulary Quiz\")\n",
    "        self.current_category = None\n",
    "        self.current_subcategory = None\n",
    "        self.current_word = None\n",
    "        self.current_answer = None\n",
    "\n",
    "        self.words = None\n",
    "\n",
    "        self.setup_ui()\n",
    "\n",
    "    def setup_ui(self):\n",
    "        # Frame de seleção de categoria\n",
    "        self.category_frame = ttk.Frame(self.root, padding=10)\n",
    "        self.category_frame.pack(fill=\"both\", expand=True)\n",
    "\n",
    "        ttk.Label(self.category_frame, text=\"Choose a category:\", font=(\"Arial\", 14)).pack(pady=5)\n",
    "        categorias = listar_funcionalidades()\n",
    "        self.category_combobox = ttk.Combobox(self.category_frame, state=\"readonly\", values=categorias)\n",
    "        self.category_combobox.pack(pady=5)\n",
    "        self.category_combobox.bind(\"<<ComboboxSelected>>\", self.populate_subcategories)\n",
    "\n",
    "        ttk.Label(self.category_frame, text=\"Choose a subcategory:\", font=(\"Arial\", 14)).pack(pady=5)\n",
    "        self.subcategory_combobox = ttk.Combobox(self.category_frame, state=\"readonly\")\n",
    "        self.subcategory_combobox.pack(pady=5)\n",
    "\n",
    "        self.start_button = ttk.Button(self.category_frame, text=\"Start Quiz\", command=self.start_quiz)\n",
    "        self.start_button.pack(pady=10)\n",
    "\n",
    "        # Frame do quiz\n",
    "        self.quiz_frame = ttk.Frame(self.root, padding=10)\n",
    "\n",
    "        ttk.Label(self.quiz_frame, text=\"Translate the following word:\", font=(\"Arial\", 14)).pack(pady=10)\n",
    "        self.word_label = ttk.Label(self.quiz_frame, text=\"\", font=(\"Arial\", 18, \"bold\"))\n",
    "        self.word_label.pack(pady=10)\n",
    "\n",
    "        self.label1 = ttk.Label(self.quiz_frame, text=\"Label 1\")\n",
    "        self.label1.pack(pady=13)\n",
    "\n",
    "        self.answer_entry = ttk.Entry(self.quiz_frame, font=(\"Arial\", 14))\n",
    "        self.answer_entry.pack(pady=5)\n",
    "\n",
    "        self.check_button = ttk.Button(self.quiz_frame, text=\"Check Answer\", command=self.check_answer)\n",
    "        self.check_button.pack(pady=5)\n",
    "\n",
    "        self.feedback_label = ttk.Label(self.quiz_frame, text=\"\", font=(\"Arial\", 12))\n",
    "        self.feedback_label.pack(pady=5)\n",
    "\n",
    "        self.back_button = ttk.Button(self.quiz_frame, text=\"Back to Categories\", command=self.back_to_categories)\n",
    "        self.back_button.pack(pady=10)\n",
    "\n",
    "\n",
    "    def populate_subcategories(self, event):\n",
    "        category = self.category_combobox.get()\n",
    "        subcategories = exibir_vocabulario(category)\n",
    "        self.subcategory_combobox[\"values\"] = subcategories\n",
    "\n",
    "    def start_quiz(self):\n",
    "        self.current_category = self.category_combobox.get()\n",
    "        self.current_subcategory = self.subcategory_combobox.get()\n",
    "\n",
    "        if not self.current_category or not self.current_subcategory:\n",
    "            messagebox.showwarning(\"Selection Error\", \"Please select both a category and a subcategory!\")\n",
    "            return\n",
    "\n",
    "        self.category_frame.pack_forget()\n",
    "        self.quiz_frame.pack(fill=\"both\", expand=True)\n",
    "        self.next_word()\n",
    "\n",
    "    def next_word(self):\n",
    "        # words = VOCABULARY[self.current_category][self.current_subcategory]\n",
    "        if not self.words:\n",
    "            self.words = carregar_vocabulario(categoria=self.current_category, arquivo=self.current_subcategory)\n",
    "\n",
    "        self.current_word = random.choice([i for i in self.words])\n",
    "        self.current_answer = self.words[self.current_word]\n",
    "\n",
    "        self.word_label.config(text=self.current_word)\n",
    "        self.answer_entry.delete(0, tk.END)\n",
    "        self.feedback_label.config(text=\"\")\n",
    "\n",
    "    def check_answer(self):\n",
    "        user_answer = self.answer_entry.get().strip()\n",
    "        if user_answer.lower() == self.current_answer.lower():\n",
    "            self.feedback_label.config(text=\"Correct!\", foreground=\"green\")\n",
    "\n",
    "            self.words.pop(self.current_word)\n",
    "\n",
    "            # print(f\"Falavras restantes: {self.words}\")\n",
    "\n",
    "        else:\n",
    "            self.feedback_label.config(text=f\"{self.current_answer}\", foreground=\"red\")\n",
    "            print(f\"❌: {user_answer}, ✅: {self.current_answer}\")\n",
    "        self.root.after(2000, self.next_word)\n",
    "\n",
    "    def back_to_categories(self):\n",
    "        self.quiz_frame.pack_forget()\n",
    "        self.category_frame.pack(fill=\"both\", expand=True)\n",
    "\n",
    "if __name__ == \"__main__\":\n",
    "    root = tk.Tk()\n",
    "    quiz_app = VocabularyQuiz(root)\n",
    "    root.mainloop()\n"
   ]
  },
  {
   "cell_type": "code",
   "execution_count": 63,
   "metadata": {},
   "outputs": [
    {
     "data": {
      "text/plain": [
       "['seasons_and_frequency', 'time_expressions', 'numbers']"
      ]
     },
     "execution_count": 63,
     "metadata": {},
     "output_type": "execute_result"
    }
   ],
   "source": [
    "listar_funcionalidades()"
   ]
  },
  {
   "cell_type": "code",
   "execution_count": 97,
   "metadata": {},
   "outputs": [
    {
     "data": {
      "text/plain": [
       "['frequentemente']"
      ]
     },
     "execution_count": 97,
     "metadata": {},
     "output_type": "execute_result"
    }
   ],
   "source": [
    "import random\n",
    "\n",
    "words = carregar_vocabulario(categoria=\"seasons_and_frequency\", arquivo=\"frequency\")\n",
    "\n",
    "random.choices(population=list(words.keys()), k=1)"
   ]
  },
  {
   "cell_type": "code",
   "execution_count": 98,
   "metadata": {},
   "outputs": [
    {
     "data": {
      "text/plain": [
       "'often'"
      ]
     },
     "execution_count": 98,
     "metadata": {},
     "output_type": "execute_result"
    }
   ],
   "source": [
    "words.pop(\"frequentemente\")"
   ]
  },
  {
   "cell_type": "code",
   "execution_count": 99,
   "metadata": {},
   "outputs": [
    {
     "data": {
      "text/plain": [
       "4"
      ]
     },
     "execution_count": 99,
     "metadata": {},
     "output_type": "execute_result"
    }
   ],
   "source": [
    "len(words)"
   ]
  },
  {
   "cell_type": "code",
   "execution_count": 73,
   "metadata": {},
   "outputs": [
    {
     "data": {
      "text/plain": [
       "{'sempre': 'always',\n",
       " 'frequentemente': 'often',\n",
       " 'às vezes': 'sometimes',\n",
       " 'raramente': 'rarely',\n",
       " 'nunca': 'never'}"
      ]
     },
     "execution_count": 73,
     "metadata": {},
     "output_type": "execute_result"
    }
   ],
   "source": [
    "words"
   ]
  },
  {
   "cell_type": "code",
   "execution_count": 64,
   "metadata": {},
   "outputs": [
    {
     "data": {
      "text/plain": [
       "['frequency', 'seasons']"
      ]
     },
     "execution_count": 64,
     "metadata": {},
     "output_type": "execute_result"
    }
   ],
   "source": [
    "exibir_vocabulario(\"seasons_and_frequency\")"
   ]
  },
  {
   "cell_type": "code",
   "execution_count": null,
   "metadata": {},
   "outputs": [],
   "source": []
  },
  {
   "cell_type": "code",
   "execution_count": null,
   "metadata": {},
   "outputs": [],
   "source": []
  },
  {
   "cell_type": "code",
   "execution_count": null,
   "metadata": {},
   "outputs": [],
   "source": []
  },
  {
   "cell_type": "code",
   "execution_count": null,
   "metadata": {},
   "outputs": [],
   "source": []
  },
  {
   "cell_type": "code",
   "execution_count": null,
   "metadata": {},
   "outputs": [
    {
     "data": {
      "text/plain": [
       "['ordinal_numbers_0-100', 'numbers_0-100']"
      ]
     },
     "execution_count": 37,
     "metadata": {},
     "output_type": "execute_result"
    }
   ],
   "source": [
    "listar_funcionalidades()\n",
    "\n",
    "exibir_vocabulario(\"numbers\")"
   ]
  },
  {
   "cell_type": "code",
   "execution_count": 39,
   "metadata": {},
   "outputs": [
    {
     "data": {
      "text/plain": [
       "[{'0th': '0th',\n",
       "  '1th': 'first',\n",
       "  '2th': 'second',\n",
       "  '3th': 'third',\n",
       "  '4th': 'fourth',\n",
       "  '5th': 'fifth',\n",
       "  '6th': 'sixth',\n",
       "  '7th': 'seventh',\n",
       "  '8th': 'eighth',\n",
       "  '9th': 'ninth',\n",
       "  '10th': 'tenth',\n",
       "  '11th': 'eleventh',\n",
       "  '12th': 'twelfth',\n",
       "  '13th': 'thirteenth',\n",
       "  '14th': 'fourteenth',\n",
       "  '15th': 'fifteenth',\n",
       "  '16th': 'sixteenth',\n",
       "  '17th': 'seventeenth',\n",
       "  '18th': 'eighteenth',\n",
       "  '19th': 'nineteenth',\n",
       "  '20th': 'twentieth',\n",
       "  '21th': 'twenty-first',\n",
       "  '22th': 'twenty-second',\n",
       "  '23th': 'twenty-third',\n",
       "  '24th': 'twenty-fourth',\n",
       "  '25th': 'twenty-fifth',\n",
       "  '26th': 'twenty-sixth',\n",
       "  '27th': 'twenty-seventh',\n",
       "  '28th': 'twenty-eighth',\n",
       "  '29th': 'twenty-ninth',\n",
       "  '30th': 'thirtieth',\n",
       "  '31th': 'thirty-first',\n",
       "  '32th': 'thirty-second',\n",
       "  '33th': 'thirty-third',\n",
       "  '34th': 'thirty-fourth',\n",
       "  '35th': 'thirty-fifth',\n",
       "  '36th': 'thirty-sixth',\n",
       "  '37th': 'thirty-seventh',\n",
       "  '38th': 'thirty-eighth',\n",
       "  '39th': 'thirty-ninth',\n",
       "  '40th': 'fortieth',\n",
       "  '41th': 'forty-first',\n",
       "  '42th': 'forty-second',\n",
       "  '43th': 'forty-third',\n",
       "  '44th': 'forty-fourth',\n",
       "  '45th': 'forty-fifth',\n",
       "  '46th': 'forty-sixth',\n",
       "  '47th': 'forty-seventh',\n",
       "  '48th': 'forty-eighth',\n",
       "  '49th': 'forty-ninth',\n",
       "  '50th': 'fiftieth',\n",
       "  '51th': 'fifty-first',\n",
       "  '52th': 'fifty-second',\n",
       "  '53th': 'fifty-third',\n",
       "  '54th': 'fifty-fourth',\n",
       "  '55th': 'fifty-fifth',\n",
       "  '56th': 'fifty-sixth',\n",
       "  '57th': 'fifty-seventh',\n",
       "  '58th': 'fifty-eighth',\n",
       "  '59th': 'fifty-ninth',\n",
       "  '60th': 'sixtieth',\n",
       "  '61th': 'sixty-first',\n",
       "  '62th': 'sixty-second',\n",
       "  '63th': 'sixty-third',\n",
       "  '64th': 'sixty-fourth',\n",
       "  '65th': 'sixty-fifth',\n",
       "  '66th': 'sixty-sixth',\n",
       "  '67th': 'sixty-seventh',\n",
       "  '68th': 'sixty-eighth',\n",
       "  '69th': 'sixty-ninth',\n",
       "  '70th': 'seventieth',\n",
       "  '71th': 'seventy-first',\n",
       "  '72th': 'seventy-second',\n",
       "  '73th': 'seventy-third',\n",
       "  '74th': 'seventy-fourth',\n",
       "  '75th': 'seventy-fifth',\n",
       "  '76th': 'seventy-sixth',\n",
       "  '77th': 'seventy-seventh',\n",
       "  '78th': 'seventy-eighth',\n",
       "  '79th': 'seventy-ninth',\n",
       "  '80th': 'eightieth',\n",
       "  '81th': 'eighty-first',\n",
       "  '82th': 'eighty-second',\n",
       "  '83th': 'eighty-third',\n",
       "  '84th': 'eighty-fourth',\n",
       "  '85th': 'eighty-fifth',\n",
       "  '86th': 'eighty-sixth',\n",
       "  '87th': 'eighty-seventh',\n",
       "  '88th': 'eighty-eighth',\n",
       "  '89th': 'eighty-ninth',\n",
       "  '90th': 'ninetieth',\n",
       "  '91th': 'ninety-first',\n",
       "  '92th': 'ninety-second',\n",
       "  '93th': 'ninety-third',\n",
       "  '94th': 'ninety-fourth',\n",
       "  '95th': 'ninety-fifth',\n",
       "  '96th': 'ninety-sixth',\n",
       "  '97th': 'ninety-seventh',\n",
       "  '98th': 'ninety-eighth',\n",
       "  '99th': 'ninety-ninth',\n",
       "  '100th': 'one hundredth'}]"
      ]
     },
     "execution_count": 39,
     "metadata": {},
     "output_type": "execute_result"
    }
   ],
   "source": [
    "words = carregar_vocabulario(categoria=\"numbers\", arquivo=\"ordinal_numbers_0-100\")\n",
    "\n",
    "words"
   ]
  },
  {
   "cell_type": "code",
   "execution_count": 72,
   "metadata": {},
   "outputs": [],
   "source": []
  },
  {
   "cell_type": "code",
   "execution_count": 8,
   "metadata": {},
   "outputs": [
    {
     "data": {
      "text/html": [
       "<div>\n",
       "<style scoped>\n",
       "    .dataframe tbody tr th:only-of-type {\n",
       "        vertical-align: middle;\n",
       "    }\n",
       "\n",
       "    .dataframe tbody tr th {\n",
       "        vertical-align: top;\n",
       "    }\n",
       "\n",
       "    .dataframe thead th {\n",
       "        text-align: right;\n",
       "    }\n",
       "</style>\n",
       "<table border=\"1\" class=\"dataframe\">\n",
       "  <thead>\n",
       "    <tr style=\"text-align: right;\">\n",
       "      <th></th>\n",
       "      <th>0</th>\n",
       "      <th>1</th>\n",
       "      <th>2</th>\n",
       "      <th>3</th>\n",
       "      <th>4</th>\n",
       "      <th>5</th>\n",
       "      <th>6</th>\n",
       "      <th>7</th>\n",
       "      <th>8</th>\n",
       "      <th>9</th>\n",
       "      <th>...</th>\n",
       "      <th>91</th>\n",
       "      <th>92</th>\n",
       "      <th>93</th>\n",
       "      <th>94</th>\n",
       "      <th>95</th>\n",
       "      <th>96</th>\n",
       "      <th>97</th>\n",
       "      <th>98</th>\n",
       "      <th>99</th>\n",
       "      <th>100</th>\n",
       "    </tr>\n",
       "  </thead>\n",
       "  <tbody>\n",
       "    <tr>\n",
       "      <th>0</th>\n",
       "      <td>zero</td>\n",
       "      <td>one</td>\n",
       "      <td>two</td>\n",
       "      <td>three</td>\n",
       "      <td>four</td>\n",
       "      <td>five</td>\n",
       "      <td>six</td>\n",
       "      <td>seven</td>\n",
       "      <td>eight</td>\n",
       "      <td>nine</td>\n",
       "      <td>...</td>\n",
       "      <td>ninety-one</td>\n",
       "      <td>ninety-two</td>\n",
       "      <td>ninety-three</td>\n",
       "      <td>ninety-four</td>\n",
       "      <td>ninety-five</td>\n",
       "      <td>ninety-six</td>\n",
       "      <td>ninety-seven</td>\n",
       "      <td>ninety-eight</td>\n",
       "      <td>ninety-nine</td>\n",
       "      <td>one hundred</td>\n",
       "    </tr>\n",
       "  </tbody>\n",
       "</table>\n",
       "<p>1 rows × 101 columns</p>\n",
       "</div>"
      ],
      "text/plain": [
       "      0    1    2      3     4     5    6      7      8     9  ...  \\\n",
       "0  zero  one  two  three  four  five  six  seven  eight  nine  ...   \n",
       "\n",
       "           91          92            93           94           95          96  \\\n",
       "0  ninety-one  ninety-two  ninety-three  ninety-four  ninety-five  ninety-six   \n",
       "\n",
       "             97            98           99          100  \n",
       "0  ninety-seven  ninety-eight  ninety-nine  one hundred  \n",
       "\n",
       "[1 rows x 101 columns]"
      ]
     },
     "execution_count": 8,
     "metadata": {},
     "output_type": "execute_result"
    }
   ],
   "source": [
    "import pandas as pd\n",
    "\n",
    "pd.DataFrame([VOCABULARY[\"Numbers\"][\"Numbers 0-100\"]])"
   ]
  },
  {
   "cell_type": "code",
   "execution_count": 22,
   "metadata": {},
   "outputs": [
    {
     "data": {
      "text/plain": [
       "{'Estações': {'Primavera': 'Spring',\n",
       "  'Verão': 'Summer',\n",
       "  'Outono': 'Autumn',\n",
       "  'Inverno': 'Winter'},\n",
       " 'Frequência': {'sempre': 'always',\n",
       "  'frequentemente': 'often',\n",
       "  'às vezes': 'sometimes',\n",
       "  'raramente': 'rarely',\n",
       "  'nunca': 'never'}}"
      ]
     },
     "execution_count": 22,
     "metadata": {},
     "output_type": "execute_result"
    }
   ],
   "source": [
    "VOCABULARY[\"Seasons and Frequency\"]"
   ]
  },
  {
   "cell_type": "code",
   "execution_count": 49,
   "metadata": {},
   "outputs": [
    {
     "data": {
      "text/plain": [
       "dict_keys(['Numbers', 'Time Expressions', 'Seasons and Frequency'])"
      ]
     },
     "execution_count": 49,
     "metadata": {},
     "output_type": "execute_result"
    }
   ],
   "source": [
    "VOCABULARY.keys()"
   ]
  },
  {
   "cell_type": "code",
   "execution_count": 46,
   "metadata": {},
   "outputs": [],
   "source": [
    "pd.DataFrame([VOCABULARY[\"Time Expressions\"][\"O Calendário\"]]).to_csv(\"database/vocabulary/time_expressions/o_calendario.csv\", index=False)\n"
   ]
  },
  {
   "cell_type": "code",
   "execution_count": 4,
   "metadata": {},
   "outputs": [],
   "source": [
    "import os\n",
    "\n",
    "os.chdir(\"..\")\n",
    "os.chdir(\"..\")"
   ]
  },
  {
   "cell_type": "code",
   "execution_count": null,
   "metadata": {},
   "outputs": [],
   "source": []
  },
  {
   "cell_type": "code",
   "execution_count": null,
   "metadata": {},
   "outputs": [],
   "source": []
  }
 ],
 "metadata": {
  "kernelspec": {
   "display_name": "fast-english-s-Sv58CE-py3.12",
   "language": "python",
   "name": "python3"
  },
  "language_info": {
   "codemirror_mode": {
    "name": "ipython",
    "version": 3
   },
   "file_extension": ".py",
   "mimetype": "text/x-python",
   "name": "python",
   "nbconvert_exporter": "python",
   "pygments_lexer": "ipython3",
   "version": "3.12.3"
  }
 },
 "nbformat": 4,
 "nbformat_minor": 2
}
