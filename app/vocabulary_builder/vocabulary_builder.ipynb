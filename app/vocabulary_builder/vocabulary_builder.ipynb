{
 "cells": [
  {
   "cell_type": "markdown",
   "metadata": {},
   "source": [
    "## Anki\n",
    "\n",
    "\n",
    "Parei na parte 5: Lost and Found"
   ]
  },
  {
   "cell_type": "code",
   "execution_count": null,
   "metadata": {},
   "outputs": [],
   "source": []
  },
  {
   "cell_type": "code",
   "execution_count": 12,
   "metadata": {},
   "outputs": [
    {
     "data": {
      "text/plain": [
       "['animals', 'fruits']"
      ]
     },
     "execution_count": 12,
     "metadata": {},
     "output_type": "execute_result"
    }
   ],
   "source": [
    "vocabulary_model.list_categories()"
   ]
  },
  {
   "cell_type": "code",
   "execution_count": null,
   "metadata": {},
   "outputs": [],
   "source": []
  },
  {
   "cell_type": "code",
   "execution_count": 1,
   "metadata": {},
   "outputs": [],
   "source": [
    "%load_ext autoreload \n",
    "%autoreload 2"
   ]
  },
  {
   "cell_type": "code",
   "execution_count": 2,
   "metadata": {},
   "outputs": [],
   "source": [
    "import os\n",
    "os.chdir(\"..\")\n",
    "os.chdir(\"..\")"
   ]
  },
  {
   "cell_type": "code",
   "execution_count": 4,
   "metadata": {},
   "outputs": [],
   "source": [
    "# from app.vocabulary_builder.model.vocabulary_model import VocabularyModel\n",
    "from app.vocabulary_builder.view.vocabulary_view import ControladorDePaginas\n",
    "# from app.vocabulary_builder.controller.vocabulary_controller import VocabularyController\n",
    "\n",
    "import tkinter as tk\n"
   ]
  },
  {
   "cell_type": "code",
   "execution_count": 5,
   "metadata": {},
   "outputs": [],
   "source": [
    "app = ControladorDePaginas()\n",
    "app.mainloop()"
   ]
  },
  {
   "cell_type": "code",
   "execution_count": null,
   "metadata": {},
   "outputs": [],
   "source": []
  },
  {
   "cell_type": "code",
   "execution_count": null,
   "metadata": {},
   "outputs": [],
   "source": []
  },
  {
   "cell_type": "code",
   "execution_count": null,
   "metadata": {},
   "outputs": [],
   "source": []
  },
  {
   "cell_type": "code",
   "execution_count": 3,
   "metadata": {},
   "outputs": [
    {
     "data": {
      "text/plain": [
       "'she ??? lunch at 2pm every day'"
      ]
     },
     "execution_count": 3,
     "metadata": {},
     "output_type": "execute_result"
    }
   ],
   "source": [
    "\"i {word} lunch at noon every day\".format(word='???')\n",
    "\"she {word} lunch at 2pm every day\".format(word='???')\n"
   ]
  },
  {
   "cell_type": "code",
   "execution_count": 4,
   "metadata": {},
   "outputs": [],
   "source": [
    "daily_routines = {\n",
    "    \"acordar\": \"wake up\",\n",
    "    \"levantar-se\": \"get up\",\n",
    "    \"escovar os dentes\": \"brush teeth\",\n",
    "    \"tomar banho\": \"take a shower\",\n",
    "    \"vestir-se\": \"get dressed\",\n",
    "    \"tomar café da manhã\": \"have breakfast\",\n",
    "    \"ir para o trabalho\": \"go to work\",\n",
    "    \"trabalhar\": \"work\",\n",
    "    \"estudar\": \"study\",\n",
    "    \"almoçar\": \"have lunch\",\n",
    "    \"fazer uma pausa\": \"take a break\",\n",
    "    \"exercitar-se\": \"exercise\",\n",
    "    \"voltar para casa\": \"go home\",\n",
    "    \"jantar\": \"have dinner\",\n",
    "    \"assistir TV\": \"watch TV\",\n",
    "    \"ler um livro\": \"read a book\",\n",
    "    \"relaxar\": \"relax\",\n",
    "    \"ir dormir\": \"go to bed\",\n",
    "    \"dormir\": \"sleep\"\n",
    "\n",
    "    \"alarm goes off\"\n",
    "    \n",
    "}"
   ]
  },
  {
   "cell_type": "code",
   "execution_count": 5,
   "metadata": {},
   "outputs": [
    {
     "name": "stdout",
     "output_type": "stream",
     "text": [
      "Categorias disponíveis: ['numbers', 'seasons_and_frequency', 'time_expressions']\n",
      "\n",
      "Vocabulário de 'days':\n"
     ]
    }
   ],
   "source": [
    "import os\n",
    "import csv\n",
    "import pandas as pd\n",
    "\n",
    "BASE_PATH = os.path.join(\"database\", \"vocabulary\")\n",
    "\n",
    "def carregar_csv(caminho_arquivo):\n",
    "    dados = []\n",
    "    with open(caminho_arquivo, newline='', encoding='utf-8') as csvfile:\n",
    "        leitor = csv.DictReader(csvfile)\n",
    "        for linha in leitor:\n",
    "            dados.append(linha)\n",
    "    return dados\n",
    "\n",
    "def load_dataframe(caminho_arquivo:str):\n",
    "    df = pd.read_csv(caminho_arquivo)\n",
    "    return df.to_dict(\"records\")[0]\n",
    "\n",
    "def listar_funcionalidades(base_path=BASE_PATH):\n",
    "    return [nome for nome in os.listdir(base_path) if os.path.isdir(os.path.join(base_path, nome))]\n",
    "\n",
    "def buscar_vocabulos(categoria):\n",
    "    caminho = os.path.join(BASE_PATH, categoria)\n",
    "    arquivos = os.listdir(caminho)\n",
    "    vocabulario = []\n",
    "\n",
    "    for arquivo in arquivos:\n",
    "        if arquivo.endswith(\".csv\"):\n",
    "            vocabulario.append(arquivo)\n",
    "\n",
    "    return vocabulario\n",
    "\n",
    "def exibir_vocabulario(categoria):\n",
    "    vocab = buscar_vocabulos(categoria)\n",
    "    return [item.replace(\".csv\", \"\") for item in vocab]\n",
    "    #     # print(f\"{item['pt']} ➜ {item['en']}\")\n",
    "        # print(f\"{idx}- {item}\")\n",
    "\n",
    "\n",
    "def carregar_vocabulario(categoria, arquivo):\n",
    "    caminho = os.path.join(BASE_PATH, categoria)\n",
    "    # arquivos = os.listdir(caminho)\n",
    "    caminho_csv = os.path.join(caminho, arquivo)\n",
    "    # return carregar_csv(f\"{caminho_csv}.csv\")\n",
    "    return load_dataframe(f\"{caminho_csv}.csv\")\n",
    "\n",
    "# EXEMPLO DE USO\n",
    "categorias = listar_funcionalidades()\n",
    "print(\"Categorias disponíveis:\", categorias)\n",
    "\n",
    "print(\"\\nVocabulário de 'days':\")\n",
    "exibir_vocabulario('seasons_and_frequency')\n",
    "\n",
    "leitor = carregar_vocabulario(categoria=\"seasons_and_frequency\", arquivo=\"frequency\")\n",
    "\n"
   ]
  },
  {
   "cell_type": "code",
   "execution_count": null,
   "metadata": {},
   "outputs": [
    {
     "name": "stdout",
     "output_type": "stream",
     "text": [
      "❌: maça, ✅: maçã\n",
      "❌: pera, ✅: morango\n",
      "❌: pinha, ✅: abacaxi\n"
     ]
    }
   ],
   "source": [
    "\n",
    "\n",
    "if __name__ == \"__main__\":\n",
    "    # Criando uma estrutura de dados de exemplo (simulando seus arquivos JSON)\n",
    "    if not os.path.exists(\"data/animals\"):\n",
    "        os.makedirs(\"data/animals\")\n",
    "    if not os.path.exists(\"data/fruits\"):\n",
    "        os.makedirs(\"data/fruits\")\n",
    "\n",
    "    with open(\"data/animals/mammals.json\", 'w', encoding='utf-8') as f:\n",
    "        json.dump({\"dog\": \"cachorro\", \"cat\": \"gato\", \"elephant\": \"elefante\"}, f, ensure_ascii=False, indent=4)\n",
    "    with open(\"data/animals/birds.json\", 'w', encoding='utf-8') as f:\n",
    "        json.dump({\"eagle\": \"águia\", \"parrot\": \"papagaio\", \"owl\": \"coruja\"}, f, ensure_ascii=False, indent=4)\n",
    "    with open(\"data/fruits/tropical.json\", 'w', encoding='utf-8') as f:\n",
    "        json.dump({\"banana\": \"banana\", \"mango\": \"manga\", \"pineapple\": \"abacaxi\"}, f, ensure_ascii=False, indent=4)\n",
    "    with open(\"data/fruits/temperate.json\", 'w', encoding='utf-8') as f:\n",
    "        json.dump({\"apple\": \"maçã\", \"pear\": \"pera\", \"strawberry\": \"morango\"}, f, ensure_ascii=False, indent=4)\n",
    "\n",
    "    root = tk.Tk()\n",
    "    controller = VocabularyController(root)\n",
    "    root.mainloop()"
   ]
  },
  {
   "cell_type": "code",
   "execution_count": null,
   "metadata": {},
   "outputs": [],
   "source": []
  },
  {
   "cell_type": "code",
   "execution_count": null,
   "metadata": {},
   "outputs": [],
   "source": []
  },
  {
   "cell_type": "code",
   "execution_count": null,
   "metadata": {},
   "outputs": [],
   "source": []
  },
  {
   "cell_type": "code",
   "execution_count": null,
   "metadata": {},
   "outputs": [],
   "source": []
  },
  {
   "cell_type": "code",
   "execution_count": null,
   "metadata": {},
   "outputs": [],
   "source": []
  },
  {
   "cell_type": "code",
   "execution_count": null,
   "metadata": {},
   "outputs": [],
   "source": []
  },
  {
   "cell_type": "code",
   "execution_count": null,
   "metadata": {},
   "outputs": [],
   "source": []
  }
 ],
 "metadata": {
  "kernelspec": {
   "display_name": ".venv",
   "language": "python",
   "name": "python3"
  },
  "language_info": {
   "codemirror_mode": {
    "name": "ipython",
    "version": 3
   },
   "file_extension": ".py",
   "mimetype": "text/x-python",
   "name": "python",
   "nbconvert_exporter": "python",
   "pygments_lexer": "ipython3",
   "version": "3.12.10"
  }
 },
 "nbformat": 4,
 "nbformat_minor": 2
}
