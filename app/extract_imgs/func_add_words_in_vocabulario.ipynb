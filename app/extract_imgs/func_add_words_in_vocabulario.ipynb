{
 "cells": [
  {
   "cell_type": "code",
   "execution_count": 1,
   "metadata": {},
   "outputs": [],
   "source": [
    "%load_ext autoreload \n",
    "%autoreload 2"
   ]
  },
  {
   "cell_type": "code",
   "execution_count": 20,
   "metadata": {},
   "outputs": [
    {
     "data": {
      "text/plain": [
       "'contact details'"
      ]
     },
     "execution_count": 20,
     "metadata": {},
     "output_type": "execute_result"
    }
   ],
   "source": [
    "\"CONTACT DETAILS\".lower()"
   ]
  },
  {
   "cell_type": "markdown",
   "metadata": {},
   "source": [
    "[11:46, 4/27/2025] Guilherme Brandão: \n",
    "\n",
    "Describing things: opinions\n",
    "6.1 \n",
    "\n",
    "\n",
    "\n",
    "sharing information\n",
    "\n",
    "7.1 contact details\n",
    "\n",
    "first name\n",
    "\n",
    "house number\n",
    "\n",
    "title\n",
    "\n",
    "middle name\n",
    "\n",
    "last name\n",
    "\n",
    "street address\n",
    "\n",
    "Mr. Robert Thomas rob.johnson@webmail.net\n",
    "\n",
    "(617) 555-5351\n",
    "\n",
    "Johnson\n",
    "\n",
    "80 Elm Drive\n",
    "\n",
    "Birmingham, AL\n",
    "\n",
    "state\n",
    "\n",
    "03337\n",
    "\n",
    "US\n",
    "\n",
    "cell phone number (US) mobile number (UK)\n",
    "\n",
    "email address\n",
    "\n",
    "city\n",
    "\n",
    "zip code (US) postcode (UK)\n",
    "\n",
    "019230 8934\n",
    "\n",
    "website\n",
    "\n",
    "d.thompson@bigfilms.com\n",
    "\n",
    "www.bigfilms.com\n",
    "\n",
    "business card\n",
    "\n",
    "7.2 BUSINESS CARDS\n",
    "\n",
    "name\n",
    "\n",
    "Director\n",
    "\n",
    "job title\n",
    "\n",
    "Redchester RC3 7AP\n",
    "\n",
    "United Kingdom\n",
    "\n",
    "Daniel Thompson\n",
    "\n",
    "23 Long Lane\n",
    "\n",
    "BIG\n",
    "\n",
    "company name\n",
    "\n",
    "to introduce yourself\n",
    "\n",
    "to exchange business cards\n",
    "[11:51, 4/27/2025] Guilherme Brandão: 7.3 FORMS OF COMMUNICATION\n",
    "\n",
    "-\n",
    "\n",
    "letter\n",
    "\n",
    "email\n",
    "\n",
    "phone call\n",
    "\n",
    "CARTA\n",
    "\n",
    "voicemail ΜένSA0εκ Dε νοz\n",
    "\n",
    "text message\n",
    "\n",
    "ΜEvS46tnpε τΕκτο\n",
    "\n",
    "social networking REDES SOCIAIS\n",
    "\n",
    "memo\n",
    "\n",
    "online chat\n",
    "\n",
    "mail (US) post (UK)\n",
    "\n",
    "note\n",
    "\n",
    "MEMORANDO\n",
    "\n",
    "7.4 SENDING EMAILS\n",
    "\n",
    "inbox\n",
    "outbox\n",
    "draft\n",
    "junk mail/spam\n",
    "trash\n",
    "attachment\n",
    "subject\n",
    "contact\n",
    "signature\n",
    "to print\n",
    "to reply\n",
    "to reply all\n",
    "to forward\n",
    "to send\n",
    "to delete"
   ]
  },
  {
   "cell_type": "code",
   "execution_count": 1,
   "metadata": {},
   "outputs": [],
   "source": [
    "from deep_translator import GoogleTranslator\n",
    "import os\n"
   ]
  },
  {
   "cell_type": "code",
   "execution_count": 2,
   "metadata": {},
   "outputs": [],
   "source": [
    "os.chdir(\"..\")\n",
    "os.chdir(\"..\")"
   ]
  },
  {
   "cell_type": "code",
   "execution_count": 15,
   "metadata": {},
   "outputs": [
    {
     "data": {
      "text/plain": [
       "'opinion adjectives'"
      ]
     },
     "execution_count": 15,
     "metadata": {},
     "output_type": "execute_result"
    }
   ],
   "source": [
    "\"OPINION ADJECTIVES\".lower()"
   ]
  },
  {
   "cell_type": "code",
   "execution_count": null,
   "metadata": {},
   "outputs": [],
   "source": [
    "GOOD\n",
    "\n",
    "\n",
    "\n",
    "BAD\n",
    "\n"
   ]
  },
  {
   "cell_type": "code",
   "execution_count": null,
   "metadata": {},
   "outputs": [],
   "source": [
    "list_words = [\n",
    "\"ugly\",\n",
    "\"strange/odd\",\n",
    "\"awful\",\n",
    "\"mediocre\",\n",
    "\"confusing\",\n",
    "\"tiring\",\n",
    "\"terrible\",\n",
    "\"disappointing\",\n",
    "]"
   ]
  },
  {
   "cell_type": "code",
   "execution_count": 22,
   "metadata": {},
   "outputs": [],
   "source": [
    "from deep_translator import GoogleTranslator\n",
    "\n",
    "def translate_sentence(sentence, source_lang=\"en\", target_lang=\"pt\"):\n",
    "    \"\"\"Traduz uma frase usando GoogleTranslator.\"\"\"\n",
    "    try:\n",
    "        translator = GoogleTranslator(source=source_lang, target=target_lang)\n",
    "        sentence_translator = translator.translate(sentence)\n",
    "        \n",
    "        return sentence_translator.lower()\n",
    "    \n",
    "    except Exception as e:\n",
    "        print(f\"Erro ao traduzir a frase '{sentence}': {e}\")\n",
    "        return \"Erro na tradução\""
   ]
  },
  {
   "cell_type": "code",
   "execution_count": 23,
   "metadata": {},
   "outputs": [],
   "source": [
    "dict_text_translate = {translate_sentence(texto):texto.lower() for texto in list_words}"
   ]
  },
  {
   "cell_type": "code",
   "execution_count": null,
   "metadata": {},
   "outputs": [],
   "source": []
  },
  {
   "cell_type": "code",
   "execution_count": 24,
   "metadata": {},
   "outputs": [],
   "source": [
    "import os\n",
    "import json\n",
    "\n",
    "dict_text_translate\n",
    "output_json_folder = os.path.join(\"database\", \"vocabulary_json\")\n",
    "category_name = \"describing_things\"\n",
    "json_filename = \"good.json\"\n",
    "\n",
    "output_category_path = os.path.join(output_json_folder, category_name)\n",
    "\n",
    "if not os.path.exists(output_category_path):\n",
    "    os.makedirs(output_category_path)\n",
    "\n",
    "json_filepath = os.path.join(output_category_path, json_filename)\n",
    "with open(json_filepath, 'w', encoding='utf-8') as f:\n",
    "    json.dump(dict_text_translate, f, indent=4, ensure_ascii=False)"
   ]
  }
 ],
 "metadata": {
  "kernelspec": {
   "display_name": "fast-english-s-Sv58CE-py3.12",
   "language": "python",
   "name": "python3"
  },
  "language_info": {
   "codemirror_mode": {
    "name": "ipython",
    "version": 3
   },
   "file_extension": ".py",
   "mimetype": "text/x-python",
   "name": "python",
   "nbconvert_exporter": "python",
   "pygments_lexer": "ipython3",
   "version": "3.12.3"
  }
 },
 "nbformat": 4,
 "nbformat_minor": 2
}
