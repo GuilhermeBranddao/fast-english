{
 "cells": [
  {
   "cell_type": "markdown",
   "metadata": {},
   "source": []
  },
  {
   "cell_type": "code",
   "execution_count": 1,
   "metadata": {},
   "outputs": [],
   "source": [
    "%load_ext autoreload\n",
    "%autoreload 2"
   ]
  },
  {
   "cell_type": "code",
   "execution_count": null,
   "metadata": {},
   "outputs": [
    {
     "name": "stdout",
     "output_type": "stream",
     "text": [
      " O volume na unidade C � OS\n",
      " O N�mero de S�rie do Volume � A2FB-FA56\n",
      "\n",
      " Pasta de c:\\pyprojects\\fast-english\n",
      "\n",
      "05/05/2025  08:24    <DIR>          .\n",
      "05/05/2025  15:26    <DIR>          ..\n",
      "23/04/2025  08:12    <DIR>          .github\n",
      "05/05/2025  08:24             4.368 .gitignore\n",
      "23/04/2025  08:36    <DIR>          .venv\n",
      "23/04/2025  08:12             8.923 anki_cards.txt\n",
      "05/05/2025  08:24    <DIR>          app\n",
      "05/05/2025  08:24    <DIR>          database\n",
      "23/04/2025  08:12    <DIR>          docs\n",
      "23/04/2025  17:13             2.172 extarct_words.ipynb\n",
      "05/05/2025  08:24    <DIR>          extract_data_video\n",
      "24/04/2025  13:55            14.146 feets_tkinter.ipynb\n",
      "05/05/2025  08:24               776 game_data_.csv\n",
      "05/05/2025  08:24               994 game_data_teste_1.csv\n",
      "24/04/2025  11:43    <DIR>          gui\n",
      "23/04/2025  08:12                20 mkdocs.yml\n",
      "23/04/2025  08:12            42.816 output.mp3\n",
      "28/04/2025  08:06           403.736 poetry.lock\n",
      "28/04/2025  08:06             1.168 pyproject.toml\n",
      "23/04/2025  13:07               149 README.md\n",
      "23/04/2025  13:12               157 requirements.txt\n",
      "23/04/2025  08:12            12.288 tasks.db\n",
      "23/04/2025  08:12    <DIR>          tests\n",
      "24/04/2025  13:54             9.937 text_mairo.txt\n",
      "23/04/2025  08:12            33.152 words_oxford_pdf.txt\n",
      "              15 arquivo(s)        534.802 bytes\n",
      "              10 pasta(s)   166.357.905.408 bytes dispon�veis\n"
     ]
    }
   ],
   "source": [
    "import os\n",
    "os.chdir(\"..\")\n",
    "os.chdir(\"..\")\n",
    "# os.chdir(\"..\")\n",
    "\n",
    "!dir"
   ]
  },
  {
   "cell_type": "code",
   "execution_count": 14,
   "metadata": {},
   "outputs": [
    {
     "data": {
      "text/plain": [
       "[]"
      ]
     },
     "execution_count": 14,
     "metadata": {},
     "output_type": "execute_result"
    }
   ],
   "source": [
    "from app.games.hangman_game.main import Palavra, DataLoader\n",
    "\n",
    "\n",
    "data_loader = DataLoader()\n",
    "\n",
    "category_path = data_loader.get_categories()\n",
    "\n",
    "subcategory_path = data_loader.get_subcategories(category_path[0])\n",
    "data_loader.get_all_words(subcategory_path[4])"
   ]
  },
  {
   "cell_type": "code",
   "execution_count": 16,
   "metadata": {},
   "outputs": [
    {
     "data": {
      "text/plain": [
       "WindowsPath('database/vocabulary/words/data_organize/compras/compras_online')"
      ]
     },
     "execution_count": 16,
     "metadata": {},
     "output_type": "execute_result"
    }
   ],
   "source": [
    "subcategory_path[0]"
   ]
  }
 ],
 "metadata": {
  "kernelspec": {
   "display_name": ".venv",
   "language": "python",
   "name": "python3"
  },
  "language_info": {
   "codemirror_mode": {
    "name": "ipython",
    "version": 3
   },
   "file_extension": ".py",
   "mimetype": "text/x-python",
   "name": "python",
   "nbconvert_exporter": "python",
   "pygments_lexer": "ipython3",
   "version": "3.12.10"
  }
 },
 "nbformat": 4,
 "nbformat_minor": 2
}
