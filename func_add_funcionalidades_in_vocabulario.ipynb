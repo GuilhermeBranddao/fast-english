{
 "cells": [
  {
   "cell_type": "code",
   "execution_count": 17,
   "metadata": {},
   "outputs": [],
   "source": [
    "%load_ext autoreload \n",
    "%autoreload 2"
   ]
  },
  {
   "cell_type": "code",
   "execution_count": null,
   "metadata": {},
   "outputs": [],
   "source": [
    "# import os\n",
    "# os.chdir(\"..\")\n",
    "# os.chdir(\"..\")"
   ]
  },
  {
   "cell_type": "code",
   "execution_count": 7,
   "metadata": {},
   "outputs": [],
   "source": [
    "list_textos = [\"alarm goes off\",\n",
    "\"alarm goes off\",\n",
    "\"to wake up\",\n",
    "\"to get up\",\n",
    "\"to take a shower\",\n",
    "\"to take a bath\",\n",
    "\"to put on make-up\",\n",
    "\"to shave\",\n",
    "\"to wash your hair\",\n",
    "\"to dry your hair\",\n",
    "\"to iron a shirt\",\n",
    "\"to get dressed\",\n",
    "\"to brush your teeth\",\n",
    "\"to wash your face\",\n",
    "\"to brush your hair\",\n",
    "\"to make the bed\",\n",
    "\"to eat breakfast\",\n",
    "\"to do the housework\",\n",
    "\"to leave the house\",\n",
    "\"to go to work\",\n",
    "\"to go to school\",\n",
    "\"to catch the train\",\n",
    "\"to catch the bus\",\n",
    "\"to drive\",\n",
    "\"to arrive late\",\n",
    "\"to start work\",\n",
    "\"to have a break\",\n",
    "\"to eat lunch\",\n",
    "\"to finish work\",\n",
    "\"to leave work\",\n",
    "\"to work overtime\",\n",
    "\"to go home\",\n",
    "\"to buy groceries\",\n",
    "\"to cook dinner\",\n",
    "\"to eat dinner\",\n",
    "\"to clear the table\",\n",
    "\"to listen to the radio\",\n",
    "\"to watch TV\",\n",
    "\"to check your emails\",\n",
    "\"to drink tea or coffee\",\n",
    "\"to do wash the dishes\",\n",
    "\"to walk the dog\",\n",
    "\"to read a newspaper\",\n",
    "\"to go out with friends\",\n",
    "\"to go to a café\",\n",
    "\"to call a friend \",\n",
    "\"to call a your family\",\n",
    "\"to do homework\",\n",
    "\"to put the children to bed\",\n",
    "\"to take out the trash\",\n",
    "\"to take out the trash rubbish\",\n",
    "\"to feed the dog\",\n",
    "\"to feed the cat\",\n",
    "\"to go to bed\",]"
   ]
  },
  {
   "cell_type": "code",
   "execution_count": 14,
   "metadata": {},
   "outputs": [],
   "source": [
    "from deep_translator import GoogleTranslator\n",
    "\n",
    "def translate_sentence(sentence, source_lang=\"en\", target_lang=\"pt\"):\n",
    "    \"\"\"Traduz uma frase usando GoogleTranslator.\"\"\"\n",
    "    try:\n",
    "        translator = GoogleTranslator(source=source_lang, target=target_lang)\n",
    "        sentence_translator = translator.translate(sentence)\n",
    "        \n",
    "        return sentence_translator.lower()\n",
    "    \n",
    "    except Exception as e:\n",
    "        print(f\"Erro ao traduzir a frase '{sentence}': {e}\")\n",
    "        return \"Erro na tradução\""
   ]
  },
  {
   "cell_type": "code",
   "execution_count": 15,
   "metadata": {},
   "outputs": [],
   "source": [
    "dict_text_translate = {translate_sentence(texto):texto.lower() for texto in list_textos}"
   ]
  },
  {
   "cell_type": "code",
   "execution_count": 19,
   "metadata": {},
   "outputs": [],
   "source": [
    "import os\n",
    "import json\n",
    "\n",
    "dict_text_translate\n",
    "output_json_folder = r\"C:\\pyprojects\\fast-english\\database\\vocabulary_json\"\n",
    "category_name = \"daily_routines\"\n",
    "json_filename = \"daily_routines.json\"\n",
    "\n",
    "output_category_path = os.path.join(output_json_folder, category_name)\n",
    "\n",
    "if not os.path.exists(output_category_path):\n",
    "    os.makedirs(output_category_path)\n",
    "\n",
    "json_filepath = os.path.join(output_category_path, json_filename)\n",
    "with open(json_filepath, 'w', encoding='utf-8') as f:\n",
    "    json.dump(dict_text_translate, f, indent=4, ensure_ascii=False)"
   ]
  }
 ],
 "metadata": {
  "kernelspec": {
   "display_name": ".venv",
   "language": "python",
   "name": "python3"
  },
  "language_info": {
   "codemirror_mode": {
    "name": "ipython",
    "version": 3
   },
   "file_extension": ".py",
   "mimetype": "text/x-python",
   "name": "python",
   "nbconvert_exporter": "python",
   "pygments_lexer": "ipython3",
   "version": "3.12.10"
  }
 },
 "nbformat": 4,
 "nbformat_minor": 2
}
