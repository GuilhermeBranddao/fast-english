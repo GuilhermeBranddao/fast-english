{
 "cells": [
  {
   "cell_type": "code",
   "execution_count": null,
   "metadata": {},
   "outputs": [],
   "source": [
    "# data_organize/topico/subtopico/nome_palavra/dados(imagens, audio, json, ...)"
   ]
  },
  {
   "cell_type": "code",
   "execution_count": 10,
   "metadata": {},
   "outputs": [
    {
     "name": "stdout",
     "output_type": "stream",
     "text": [
      "nome veio estranho: |uxurious >>>> new_nome: uxurious\n",
      "nome veio estranho: LIVVU OLIVIA\n",
      "nradiato >>>> new_nome: LIVVU OLIVIA nradiato\n",
      "nome veio estranho: reat-grandfath: >>>> new_nome: reat-grandfath\n",
      "nome veio estranho: CAL VIU UY\n",
      "ar >>>> new_nome: CAL VIU UY ar\n"
     ]
    }
   ],
   "source": [
    "from pathlib import Path\n",
    "import shutil\n",
    "import json\n",
    "import re\n",
    "\n",
    "import re\n",
    "\n",
    "def limpar_nome(nome):\n",
    "    # Substitui quebras de linha e tabs por espaço\n",
    "    new_nome = re.sub(r'[\\n\\r\\t]+', ' ', nome)\n",
    "    # Remove caracteres inválidos para nomes de arquivos no Windows\n",
    "    new_nome = re.sub(r'[<>:\"/\\\\|?*]', '', new_nome)\n",
    "\n",
    "    if new_nome != nome:\n",
    "        print(f\"nome veio estranho: {nome} >>>> new_nome: {new_nome}\")\n",
    "\n",
    "    return new_nome.strip()\n",
    "\n",
    "\n",
    "# Diretórios de origem\n",
    "audio_root = Path(\"data/audio/chunk\")\n",
    "recortes_root = Path(\"data/recortes\")\n",
    "\n",
    "# Diretório de destino\n",
    "destino_root = Path(\"data_organize\")\n",
    "\n",
    "# Contador para pastas já existentes\n",
    "pastas_existentes = []\n",
    "\n",
    "# Iterar sobre todos os diretórios de imagens\n",
    "for json_path in recortes_root.rglob(\"text.json\"):\n",
    "    imagem_dir = json_path.parent\n",
    "    subtopico_dir = imagem_dir.parent\n",
    "    topico_dir = subtopico_dir.parent\n",
    "\n",
    "    # Tópico e subtopico\n",
    "    topico = topico_dir.name\n",
    "    subtopico = subtopico_dir.name\n",
    "\n",
    "    # Carrega o JSON e tenta extrair o nome da palavra do recorte_3\n",
    "    with open(json_path, \"r\", encoding=\"utf-8\") as f:\n",
    "        data_json = json.load(f)\n",
    "\n",
    "    nome_palavra = data_json.get(\"recorte_3.jpg\", None)\n",
    "    if not nome_palavra:\n",
    "        continue  # pula se não tiver a informação necessária\n",
    "\n",
    "    # Define caminho de destino final\n",
    "    destino_final = destino_root / topico / subtopico / nome_palavra\n",
    "\n",
    "    if destino_final.exists():\n",
    "        pastas_existentes.append(str(destino_final))\n",
    "\n",
    "    # Corrija só o último nome da pasta\n",
    "    partes = list(destino_final.parts)\n",
    "    partes[-1] = limpar_nome(partes[-1])  # Aplica limpeza só no último elemento\n",
    "    destino_final = Path(*partes) # Reconstrói o caminho\n",
    "\n",
    "    destino_final.mkdir(parents=True, exist_ok=True)\n",
    "\n",
    "    # Copia todos os arquivos da pasta imagem (imagens + text.json)\n",
    "    for file in imagem_dir.glob(\"*\"):\n",
    "        shutil.copy(file, destino_final / file.name)\n",
    "\n",
    "\n",
    "    match = re.search(r'(\\d+)$', imagem_dir.name)\n",
    "    numero = int(match.group(1)) if match else None\n",
    "\n",
    "    # Agora procurar áudios correspondentes\n",
    "    audio_dir = audio_root / topico / subtopico\n",
    "    if audio_dir.exists():\n",
    "        # for audio_file in audio_dir.glob(\"*.wav\"):\n",
    "        origem_audio = audio_dir / f\"palavra_{numero}.wav\"\n",
    "        destino_audio = destino_final / \"audio.wav\"\n",
    "\n",
    "        shutil.copy(origem_audio, destino_audio)\n",
    "\n",
    "# pastas_existentes[:5]  # Mostra até 5 pastas repetidas se existirem"
   ]
  },
  {
   "cell_type": "code",
   "execution_count": null,
   "metadata": {},
   "outputs": [],
   "source": []
  },
  {
   "cell_type": "code",
   "execution_count": null,
   "metadata": {},
   "outputs": [],
   "source": []
  },
  {
   "cell_type": "code",
   "execution_count": null,
   "metadata": {},
   "outputs": [],
   "source": [
    "\n"
   ]
  },
  {
   "cell_type": "code",
   "execution_count": null,
   "metadata": {},
   "outputs": [],
   "source": [
    "# C:\\\\pyprojects\\\\fast-english\\\\extract_data_video\\\\data_organize\\\\casa\\\\decoração\\\\bedding\\\\audio.wav\n",
    "# C:\\pyprojects\\fast-english\\extract_data_video\\data_organize\\casa\\divisões\\bathroom\\audio.wav"
   ]
  }
 ],
 "metadata": {
  "kernelspec": {
   "display_name": ".venv",
   "language": "python",
   "name": "python3"
  },
  "language_info": {
   "codemirror_mode": {
    "name": "ipython",
    "version": 3
   },
   "file_extension": ".py",
   "mimetype": "text/x-python",
   "name": "python",
   "nbconvert_exporter": "python",
   "pygments_lexer": "ipython3",
   "version": "3.12.10"
  }
 },
 "nbformat": 4,
 "nbformat_minor": 2
}
