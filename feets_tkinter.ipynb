{
 "cells": [
  {
   "cell_type": "code",
   "execution_count": 1,
   "metadata": {},
   "outputs": [
    {
     "name": "stdout",
     "output_type": "stream",
     "text": [
      "Sentenças salvas: []\n"
     ]
    }
   ],
   "source": [
    "import asyncio\n",
    "import tkinter as tk\n",
    "from tkinter import messagebox\n",
    "from deep_translator import GoogleTranslator\n",
    "\n",
    "# Exemplo de texto\n",
    "\n",
    "# Função para traduzir sentenças\n",
    "def translate_sentences(sentence, source_lang=\"en\", target_lang=\"pt\"):\n",
    "    translator = GoogleTranslator(source=source_lang, target=target_lang)\n",
    "    try:\n",
    "        translation = translator.translate(sentence)\n",
    "    except Exception as e:\n",
    "        print(f\"Erro ao traduzir a frase '{sentence}': {e}\")\n",
    "        translation = \"Erro na tradução\"\n",
    "    return translation\n",
    "\n",
    "# Função para exibir sentenças no Tkinter\n",
    "def display_sentence(sentence, list_sentence, index, text_widget, text_translate_widget, result_list, save_button, skip_button):\n",
    "    text_widget.delete(1.0, tk.END)\n",
    "    text_translate_widget.delete(1.0, tk.END)\n",
    "    text_widget.insert(tk.END, sentence)\n",
    "\n",
    "    def save_sentence():\n",
    "        result_list.append(sentence)\n",
    "        next_sentence()\n",
    "\n",
    "    def next_sentence():\n",
    "        if index < len(list_sentence) - 1:\n",
    "            display_sentence(list_sentence[index + 1], list_sentence, index + 1, text_widget, text_translate_widget, result_list, save_button, skip_button)\n",
    "        else:\n",
    "            messagebox.showinfo(\"Fim\", \"Não há mais sentenças para exibir.\")\n",
    "            window.quit()\n",
    "\n",
    "    save_button.config(command=save_sentence)\n",
    "    skip_button.config(command=next_sentence)\n",
    "\n",
    "# Função para exibir tradução\n",
    "def display_translate(sentence, text_translate_widget):\n",
    "    text_translate_widget.delete(1.0, tk.END)\n",
    "    translated_sentence = translate_sentences(sentence)\n",
    "    text_translate_widget.insert(tk.END, translated_sentence)\n",
    "\n",
    "# Função principal\n",
    "def main(text):\n",
    "    #list_sentences = text.split(\"\\n\")\n",
    "    list_sentences = text.split(\".\\n\")\n",
    "\n",
    "    result_list = []\n",
    "\n",
    "    window = tk.Tk()\n",
    "    window.title(\"Interface Responsiva\")\n",
    "\n",
    "    # Criação do frame principal\n",
    "    main_frame = tk.Frame(window)\n",
    "    main_frame.pack(fill=\"both\", expand=True)\n",
    "\n",
    "    # Configuração da área de texto original\n",
    "    text_widget = tk.Text(main_frame, height=5)\n",
    "    text_widget.pack(side=\"left\", fill=\"both\", expand=True, padx=5, pady=5)\n",
    "\n",
    "    # Configuração da área de texto traduzida\n",
    "    text_translate_widget = tk.Text(main_frame, height=5)\n",
    "    text_translate_widget.pack(side=\"right\", fill=\"both\", expand=True, padx=5, pady=5)\n",
    "\n",
    "    # Botões\n",
    "    button_frame = tk.Frame(window)\n",
    "    button_frame.pack(fill=\"x\", pady=5)\n",
    "\n",
    "    save_button = tk.Button(button_frame, text=\"Salvar\")\n",
    "    save_button.pack(side=\"left\", padx=5)\n",
    "\n",
    "    skip_button = tk.Button(button_frame, text=\"Pular\")\n",
    "    skip_button.pack(side=\"left\", padx=5)\n",
    "\n",
    "    translate_button = tk.Button(button_frame, text=\"Traduzir\")\n",
    "    translate_button.pack(side=\"left\", padx=5)\n",
    "\n",
    "    def show_translation():\n",
    "        sentence = text_widget.get(1.0, tk.END).strip()\n",
    "        display_translate(sentence, text_translate_widget)\n",
    "\n",
    "    translate_button.config(command=show_translation)\n",
    "\n",
    "    display_sentence(list_sentences[0], list_sentences, 0, text_widget, text_translate_widget, result_list, save_button, skip_button)\n",
    "\n",
    "    # Configura redimensionamento dos widgets\n",
    "    window.grid_rowconfigure(0, weight=1)\n",
    "    window.grid_columnconfigure(0, weight=1)\n",
    "\n",
    "    window.mainloop()\n",
    "    return result_list\n",
    "\n",
    "with open(\"text.txt\", 'r') as f:\n",
    "    text = f.read()\n",
    "# Chama a função principal e obtém as sentenças salvas\n",
    "saved_sentences = main(text)\n",
    "\n",
    "# Executa o programa\n",
    "saved_sentences = main(text)\n",
    "print(\"Sentenças salvas:\", saved_sentences)\n",
    "\n",
    "\n"
   ]
  },
  {
   "cell_type": "code",
   "execution_count": 1,
   "metadata": {},
   "outputs": [
    {
     "name": "stdout",
     "output_type": "stream",
     "text": [
      "Voz para o idioma 'pt' não encontrada. Usando voz padrão.\n",
      "Voz para o idioma 'en' não encontrada. Usando voz padrão.\n"
     ]
    },
    {
     "ename": "",
     "evalue": "",
     "output_type": "error",
     "traceback": [
      "\u001b[1;31mO Kernel deu pane ao executar o código na célula atual ou em uma célula anterior. \n",
      "\u001b[1;31mAnalise o código nas células para identificar uma possível causa da pane. \n",
      "\u001b[1;31mClique <a href='https://aka.ms/vscodeJupyterKernelCrash'>aqui</a> para obter mais informações. \n",
      "\u001b[1;31mConsulte Jupyter <a href='command:jupyter.viewOutput'>log</a> para obter mais detalhes."
     ]
    }
   ],
   "source": [
    "import pyttsx3\n",
    "\n",
    "def falar(frase, idioma=\"pt\"):\n",
    "    # Inicializa o mecanismo de fala\n",
    "    engine = pyttsx3.init()\n",
    "\n",
    "    # Configura o idioma da voz\n",
    "    voices = engine.getProperty('voices')\n",
    "    if idioma == \"pt\":\n",
    "        # Procura por vozes em português\n",
    "        voice = next((v for v in voices if \"portuguese\" in v.languages or \"pt_\" in v.id.lower()), None)\n",
    "    elif idioma == \"en\":\n",
    "        # Procura por vozes em inglês\n",
    "        voice = next((v for v in voices if \"english\" in v.languages or \"en_\" in v.id.lower()), None)\n",
    "    else:\n",
    "        voice = None\n",
    "\n",
    "    if voice:\n",
    "        engine.setProperty('voice', voice.id)\n",
    "    else:\n",
    "        print(f\"Voz para o idioma '{idioma}' não encontrada. Usando voz padrão.\")\n",
    "\n",
    "    # Configura a velocidade da fala (opcional)\n",
    "    engine.setProperty('rate', 150)\n",
    "\n",
    "    # Fala a frase\n",
    "    engine.say(frase)\n",
    "    engine.runAndWait()\n",
    "\n",
    "# Exemplo de uso\n",
    "falar(\"Olá, como você está?\", idioma=\"pt\")  # Falar em português\n",
    "falar(\"Hello, how are you?\", idioma=\"en\")   # Falar em inglês\n"
   ]
  },
  {
   "cell_type": "code",
   "execution_count": null,
   "metadata": {},
   "outputs": [],
   "source": []
  },
  {
   "cell_type": "code",
   "execution_count": null,
   "metadata": {},
   "outputs": [],
   "source": []
  },
  {
   "cell_type": "code",
   "execution_count": null,
   "metadata": {},
   "outputs": [
    {
     "name": "stderr",
     "output_type": "stream",
     "text": [
      "Exception in Tkinter callback\n",
      "Traceback (most recent call last):\n",
      "  File \"/usr/lib/python3.12/tkinter/__init__.py\", line 1967, in __call__\n",
      "    return self.func(*args)\n",
      "           ^^^^^^^^^^^^^^^^\n",
      "  File \"/tmp/ipykernel_1318294/792894865.py\", line 92, in show_translation\n",
      "    display_translate(sentence, text_translate_widget)\n",
      "  File \"/tmp/ipykernel_1318294/792894865.py\", line 47, in display_translate\n",
      "    sentence_translate = translate(sentence)\n",
      "                         ^^^^^^^^^^^^^^^^^^^\n",
      "  File \"/tmp/ipykernel_1318294/792894865.py\", line 16, in translate\n",
      "    return translated_text.text\n",
      "           ^^^^^^^^^^^^^^^^^^^^\n",
      "AttributeError: 'coroutine' object has no attribute 'text'\n"
     ]
    },
    {
     "name": "stdout",
     "output_type": "stream",
     "text": [
      "Sentenças salvas: []\n"
     ]
    }
   ],
   "source": []
  },
  {
   "cell_type": "code",
   "execution_count": 77,
   "metadata": {},
   "outputs": [
    {
     "ename": "RuntimeError",
     "evalue": "This event loop is already running",
     "output_type": "error",
     "traceback": [
      "\u001b[0;31m---------------------------------------------------------------------------\u001b[0m",
      "\u001b[0;31mRuntimeError\u001b[0m                              Traceback (most recent call last)",
      "Cell \u001b[0;32mIn[77], line 18\u001b[0m\n\u001b[1;32m     17\u001b[0m \u001b[38;5;28;01mtry\u001b[39;00m:\n\u001b[0;32m---> 18\u001b[0m     \u001b[43masyncio\u001b[49m\u001b[38;5;241;43m.\u001b[39;49m\u001b[43mrun\u001b[49m\u001b[43m(\u001b[49m\u001b[43mmain\u001b[49m\u001b[43m(\u001b[49m\u001b[43m)\u001b[49m\u001b[43m)\u001b[49m  \u001b[38;5;66;03m# Usa asyncio.run se possível\u001b[39;00m\n\u001b[1;32m     19\u001b[0m \u001b[38;5;28;01mexcept\u001b[39;00m \u001b[38;5;167;01mRuntimeError\u001b[39;00m:\n",
      "File \u001b[0;32m/usr/lib/python3.12/asyncio/runners.py:190\u001b[0m, in \u001b[0;36mrun\u001b[0;34m(main, debug, loop_factory)\u001b[0m\n\u001b[1;32m    188\u001b[0m \u001b[38;5;28;01mif\u001b[39;00m events\u001b[38;5;241m.\u001b[39m_get_running_loop() \u001b[38;5;129;01mis\u001b[39;00m \u001b[38;5;129;01mnot\u001b[39;00m \u001b[38;5;28;01mNone\u001b[39;00m:\n\u001b[1;32m    189\u001b[0m     \u001b[38;5;66;03m# fail fast with short traceback\u001b[39;00m\n\u001b[0;32m--> 190\u001b[0m     \u001b[38;5;28;01mraise\u001b[39;00m \u001b[38;5;167;01mRuntimeError\u001b[39;00m(\n\u001b[1;32m    191\u001b[0m         \u001b[38;5;124m\"\u001b[39m\u001b[38;5;124masyncio.run() cannot be called from a running event loop\u001b[39m\u001b[38;5;124m\"\u001b[39m)\n\u001b[1;32m    193\u001b[0m \u001b[38;5;28;01mwith\u001b[39;00m Runner(debug\u001b[38;5;241m=\u001b[39mdebug, loop_factory\u001b[38;5;241m=\u001b[39mloop_factory) \u001b[38;5;28;01mas\u001b[39;00m runner:\n",
      "\u001b[0;31mRuntimeError\u001b[0m: asyncio.run() cannot be called from a running event loop",
      "\nDuring handling of the above exception, another exception occurred:\n",
      "\u001b[0;31mRuntimeError\u001b[0m                              Traceback (most recent call last)",
      "Cell \u001b[0;32mIn[77], line 21\u001b[0m\n\u001b[1;32m     19\u001b[0m \u001b[38;5;28;01mexcept\u001b[39;00m \u001b[38;5;167;01mRuntimeError\u001b[39;00m:\n\u001b[1;32m     20\u001b[0m     loop \u001b[38;5;241m=\u001b[39m asyncio\u001b[38;5;241m.\u001b[39mget_event_loop()  \u001b[38;5;66;03m# Pega o loop ativo\u001b[39;00m\n\u001b[0;32m---> 21\u001b[0m     \u001b[43mloop\u001b[49m\u001b[38;5;241;43m.\u001b[39;49m\u001b[43mrun_until_complete\u001b[49m\u001b[43m(\u001b[49m\u001b[43mmain\u001b[49m\u001b[43m(\u001b[49m\u001b[43m)\u001b[49m\u001b[43m)\u001b[49m  \u001b[38;5;66;03m# Executa a função manualmente\u001b[39;00m\n",
      "File \u001b[0;32m/usr/lib/python3.12/asyncio/base_events.py:663\u001b[0m, in \u001b[0;36mBaseEventLoop.run_until_complete\u001b[0;34m(self, future)\u001b[0m\n\u001b[1;32m    652\u001b[0m \u001b[38;5;250m\u001b[39m\u001b[38;5;124;03m\"\"\"Run until the Future is done.\u001b[39;00m\n\u001b[1;32m    653\u001b[0m \n\u001b[1;32m    654\u001b[0m \u001b[38;5;124;03mIf the argument is a coroutine, it is wrapped in a Task.\u001b[39;00m\n\u001b[0;32m   (...)\u001b[0m\n\u001b[1;32m    660\u001b[0m \u001b[38;5;124;03mReturn the Future's result, or raise its exception.\u001b[39;00m\n\u001b[1;32m    661\u001b[0m \u001b[38;5;124;03m\"\"\"\u001b[39;00m\n\u001b[1;32m    662\u001b[0m \u001b[38;5;28mself\u001b[39m\u001b[38;5;241m.\u001b[39m_check_closed()\n\u001b[0;32m--> 663\u001b[0m \u001b[38;5;28;43mself\u001b[39;49m\u001b[38;5;241;43m.\u001b[39;49m\u001b[43m_check_running\u001b[49m\u001b[43m(\u001b[49m\u001b[43m)\u001b[49m\n\u001b[1;32m    665\u001b[0m new_task \u001b[38;5;241m=\u001b[39m \u001b[38;5;129;01mnot\u001b[39;00m futures\u001b[38;5;241m.\u001b[39misfuture(future)\n\u001b[1;32m    666\u001b[0m future \u001b[38;5;241m=\u001b[39m tasks\u001b[38;5;241m.\u001b[39mensure_future(future, loop\u001b[38;5;241m=\u001b[39m\u001b[38;5;28mself\u001b[39m)\n",
      "File \u001b[0;32m/usr/lib/python3.12/asyncio/base_events.py:622\u001b[0m, in \u001b[0;36mBaseEventLoop._check_running\u001b[0;34m(self)\u001b[0m\n\u001b[1;32m    620\u001b[0m \u001b[38;5;28;01mdef\u001b[39;00m \u001b[38;5;21m_check_running\u001b[39m(\u001b[38;5;28mself\u001b[39m):\n\u001b[1;32m    621\u001b[0m     \u001b[38;5;28;01mif\u001b[39;00m \u001b[38;5;28mself\u001b[39m\u001b[38;5;241m.\u001b[39mis_running():\n\u001b[0;32m--> 622\u001b[0m         \u001b[38;5;28;01mraise\u001b[39;00m \u001b[38;5;167;01mRuntimeError\u001b[39;00m(\u001b[38;5;124m'\u001b[39m\u001b[38;5;124mThis event loop is already running\u001b[39m\u001b[38;5;124m'\u001b[39m)\n\u001b[1;32m    623\u001b[0m     \u001b[38;5;28;01mif\u001b[39;00m events\u001b[38;5;241m.\u001b[39m_get_running_loop() \u001b[38;5;129;01mis\u001b[39;00m \u001b[38;5;129;01mnot\u001b[39;00m \u001b[38;5;28;01mNone\u001b[39;00m:\n\u001b[1;32m    624\u001b[0m         \u001b[38;5;28;01mraise\u001b[39;00m \u001b[38;5;167;01mRuntimeError\u001b[39;00m(\n\u001b[1;32m    625\u001b[0m             \u001b[38;5;124m'\u001b[39m\u001b[38;5;124mCannot run the event loop while another loop is running\u001b[39m\u001b[38;5;124m'\u001b[39m)\n",
      "\u001b[0;31mRuntimeError\u001b[0m: This event loop is already running"
     ]
    }
   ],
   "source": [
    "import asyncio\n",
    "from googletrans import Translator\n",
    "\n",
    "# Função assíncrona para tradução\n",
    "async def translate(text: str):\n",
    "    translator = Translator()\n",
    "    translated_text = await asyncio.to_thread(translator.translate, text, src='en', dest='pt')\n",
    "    return translated_text.text\n",
    "\n",
    "# Função principal para rodar a tradução\n",
    "async def main():\n",
    "    translation = await translate(\"Hello\")\n",
    "    print(translation)\n",
    "\n",
    "# Verifica o loop de eventos ativo e executa de forma adequada\n",
    "if __name__ == \"__main__\":\n",
    "    try:\n",
    "        asyncio.run(main())  # Usa asyncio.run se possível\n",
    "    except RuntimeError:\n",
    "        loop = asyncio.get_event_loop()  # Pega o loop ativo\n",
    "        loop.run_until_complete(main())  # Executa a função manualmente\n"
   ]
  },
  {
   "cell_type": "code",
   "execution_count": null,
   "metadata": {},
   "outputs": [],
   "source": []
  },
  {
   "cell_type": "code",
   "execution_count": null,
   "metadata": {},
   "outputs": [],
   "source": []
  }
 ],
 "metadata": {
  "kernelspec": {
   "display_name": "fast-english-s-Sv58CE-py3.12",
   "language": "python",
   "name": "python3"
  },
  "language_info": {
   "codemirror_mode": {
    "name": "ipython",
    "version": 3
   },
   "file_extension": ".py",
   "mimetype": "text/x-python",
   "name": "python",
   "nbconvert_exporter": "python",
   "pygments_lexer": "ipython3",
   "version": "3.12.3"
  }
 },
 "nbformat": 4,
 "nbformat_minor": 2
}
