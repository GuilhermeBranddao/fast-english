{
 "cells": [
  {
   "cell_type": "code",
   "execution_count": 7,
   "metadata": {},
   "outputs": [],
   "source": [
    "import pandas as pd\n",
    "import re\n",
    "\n",
    "# Função para processar cada linha\n",
    "def process_line(line):\n",
    "    # Regex para capturar a palavra, tipos e nível\n",
    "    match = re.match(r\"^([\\w'-]+)\\s([a-z.,\\s]+)\\s([A-C][1-2])$\", line.strip())\n",
    "    if match:\n",
    "        word = match.group(1)\n",
    "        types = [t.strip() for t in match.group(2).split(\",\")]  # Separa os tipos (ex.: \"v., n.\")\n",
    "        level = match.group(3)\n",
    "        return [{\"Word\": word, \"Type\": t, \"Level\": level} for t in types]\n",
    "    return []\n",
    "\n",
    "# Processar o arquivo\n",
    "data = []\n",
    "with open(\"words_oxford_pdf.txt\", \"r\") as file:\n",
    "    for line in file:\n",
    "        if line.strip():  # Ignorar linhas vazias\n",
    "            processed = process_line(line)\n",
    "            data.extend(processed)  # Adicionar os registros processados\n",
    "\n",
    "# Criar DataFrame\n",
    "df = pd.DataFrame(data)\n",
    "\n",
    "# Salvar em CSV para verificação futura\n",
    "df.to_csv(\"app/database/csv/words_oxford_levels_2.csv\", index=False)\n",
    "\n",
    "# Exibir os primeiros registros\n",
    "WORDS = df[df[\"Word\"]==\"alien\"].head(20)"
   ]
  },
  {
   "cell_type": "code",
   "execution_count": null,
   "metadata": {},
   "outputs": [],
   "source": []
  },
  {
   "cell_type": "code",
   "execution_count": null,
   "metadata": {},
   "outputs": [],
   "source": []
  },
  {
   "cell_type": "code",
   "execution_count": null,
   "metadata": {},
   "outputs": [],
   "source": []
  }
 ],
 "metadata": {
  "kernelspec": {
   "display_name": ".venv",
   "language": "python",
   "name": "python3"
  },
  "language_info": {
   "codemirror_mode": {
    "name": "ipython",
    "version": 3
   },
   "file_extension": ".py",
   "mimetype": "text/x-python",
   "name": "python",
   "nbconvert_exporter": "python",
   "pygments_lexer": "ipython3",
   "version": "3.12.10"
  }
 },
 "nbformat": 4,
 "nbformat_minor": 2
}
